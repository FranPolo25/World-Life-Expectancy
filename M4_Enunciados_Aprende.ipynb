{
  "nbformat": 4,
  "nbformat_minor": 0,
  "metadata": {
    "colab": {
      "provenance": [],
      "include_colab_link": true
    },
    "kernelspec": {
      "display_name": "Python 3",
      "name": "python3"
    },
    "language_info": {
      "name": "python"
    }
  },
  "cells": [
    {
      "cell_type": "markdown",
      "metadata": {
        "id": "view-in-github",
        "colab_type": "text"
      },
      "source": [
        "<a href=\"https://colab.research.google.com/github/FranPolo25/World-Life-Expectancy/blob/main/M4_Enunciados_Aprende.ipynb\" target=\"_parent\"><img src=\"https://colab.research.google.com/assets/colab-badge.svg\" alt=\"Open In Colab\"/></a>"
      ]
    },
    {
      "cell_type": "markdown",
      "metadata": {
        "id": "GJ1jpKGYVQkL"
      },
      "source": [
        "**MÓDULO 4 - PLATAFORMAS DE VISUALIZACIÓN**\n",
        "\n",
        "---\n",
        "\n",
        "**SESIÓN: Aprende**"
      ]
    },
    {
      "cell_type": "code",
      "metadata": {
        "id": "yNS_hRi2J5Ir",
        "colab": {
          "base_uri": "https://localhost:8080/"
        },
        "outputId": "98cabcaa-2ed8-4575-8616-f6900b728437"
      },
      "source": [
        "import pandas as pd\n",
        "from google.colab import drive\n",
        "drive.mount('/content/drive')"
      ],
      "execution_count": null,
      "outputs": [
        {
          "output_type": "stream",
          "name": "stdout",
          "text": [
            "Mounted at /content/drive\n"
          ]
        }
      ]
    },
    {
      "cell_type": "markdown",
      "metadata": {
        "id": "m3uFwVSKIkVk"
      },
      "source": [
        "# **TEMA 1. Exploración y validación de datos**"
      ]
    },
    {
      "cell_type": "markdown",
      "metadata": {
        "id": "HCK2qVuwetlR"
      },
      "source": [
        "## 1.1 Rangos típicos, categorías y valores faltantes"
      ]
    },
    {
      "cell_type": "markdown",
      "metadata": {
        "id": "EQg4IFVG9XWs"
      },
      "source": [
        "Sube a tu drive los dos archivos csv que el instructor te proporcionará y crea una nueva libreta en Colab para:\n",
        "\n",
        "*   Leer dichos archivos en dos dataframes: `countries` y `cities`\n"
      ]
    },
    {
      "cell_type": "code",
      "metadata": {
        "colab": {
          "base_uri": "https://localhost:8080/",
          "height": 468
        },
        "id": "Xy0tKNfyWs0k",
        "outputId": "23568f2a-790b-4167-fbed-762d814b3a71"
      },
      "source": [
        "countries = pd.read_csv('/content/drive/MyDrive/Data Science/Archivos Excel/world_table_country.csv')\n",
        "countries"
      ],
      "execution_count": null,
      "outputs": [
        {
          "output_type": "execute_result",
          "data": {
            "text/plain": [
              "    Code          Name      Continent                     Region  SurfaceArea  \\\n",
              "0    ABW         Aruba  North America                  Caribbean        193.0   \n",
              "1    AFG   Afghanistan           Asia  Southern and Central Asia     652090.0   \n",
              "2    AGO        Angola         Africa             Central Africa    1246700.0   \n",
              "3    AIA      Anguilla  North America                  Caribbean         96.0   \n",
              "4    ALB       Albania         Europe            Southern Europe      28748.0   \n",
              "..   ...           ...            ...                        ...          ...   \n",
              "234  YEM         Yemen           Asia                Middle East     527968.0   \n",
              "235  YUG    Yugoslavia         Europe            Southern Europe     102173.0   \n",
              "236  ZAF  South Africa         Africa            Southern Africa    1221037.0   \n",
              "237  ZMB        Zambia         Africa             Eastern Africa     752618.0   \n",
              "238  ZWE      Zimbabwe         Africa             Eastern Africa     390757.0   \n",
              "\n",
              "     IndepYear  Population  LifeExpectancy       GNP    GNPOld  \\\n",
              "0          NaN      103000            78.4     828.0     793.0   \n",
              "1       1919.0    22720000            45.9    5976.0       NaN   \n",
              "2       1975.0    12878000            38.3    6648.0    7984.0   \n",
              "3          NaN        8000            76.1      63.2       NaN   \n",
              "4       1912.0     3401200            71.6    3205.0    2500.0   \n",
              "..         ...         ...             ...       ...       ...   \n",
              "234     1918.0    18112000            59.8    6041.0    5729.0   \n",
              "235     1918.0    10640000            72.4   17000.0       NaN   \n",
              "236     1910.0    40377000            51.1  116729.0  129092.0   \n",
              "237     1964.0     9169000            37.2    3377.0    3922.0   \n",
              "238     1980.0    11669000            37.8    5951.0    8670.0   \n",
              "\n",
              "                 LocalName                                GovernmentForm  \\\n",
              "0                    Aruba  Nonmetropolitan Territory of The Netherlands   \n",
              "1    Afganistan/Afqanestan                               Islamic Emirate   \n",
              "2                   Angola                                      Republic   \n",
              "3                 Anguilla                 Dependent Territory of the UK   \n",
              "4                Shqipëria                                      Republic   \n",
              "..                     ...                                           ...   \n",
              "234               Al-Yaman                                      Republic   \n",
              "235            Jugoslavija                              Federal Republic   \n",
              "236           South Africa                                      Republic   \n",
              "237                 Zambia                                      Republic   \n",
              "238               Zimbabwe                                      Republic   \n",
              "\n",
              "     Capital  \n",
              "0      129.0  \n",
              "1        1.0  \n",
              "2       56.0  \n",
              "3       62.0  \n",
              "4       34.0  \n",
              "..       ...  \n",
              "234   1780.0  \n",
              "235   1792.0  \n",
              "236    716.0  \n",
              "237   3162.0  \n",
              "238   4068.0  \n",
              "\n",
              "[239 rows x 13 columns]"
            ],
            "text/html": [
              "\n",
              "\n",
              "  <div id=\"df-ebd0baaa-17e1-4a92-86e0-aa6638fc89d3\">\n",
              "    <div class=\"colab-df-container\">\n",
              "      <div>\n",
              "<style scoped>\n",
              "    .dataframe tbody tr th:only-of-type {\n",
              "        vertical-align: middle;\n",
              "    }\n",
              "\n",
              "    .dataframe tbody tr th {\n",
              "        vertical-align: top;\n",
              "    }\n",
              "\n",
              "    .dataframe thead th {\n",
              "        text-align: right;\n",
              "    }\n",
              "</style>\n",
              "<table border=\"1\" class=\"dataframe\">\n",
              "  <thead>\n",
              "    <tr style=\"text-align: right;\">\n",
              "      <th></th>\n",
              "      <th>Code</th>\n",
              "      <th>Name</th>\n",
              "      <th>Continent</th>\n",
              "      <th>Region</th>\n",
              "      <th>SurfaceArea</th>\n",
              "      <th>IndepYear</th>\n",
              "      <th>Population</th>\n",
              "      <th>LifeExpectancy</th>\n",
              "      <th>GNP</th>\n",
              "      <th>GNPOld</th>\n",
              "      <th>LocalName</th>\n",
              "      <th>GovernmentForm</th>\n",
              "      <th>Capital</th>\n",
              "    </tr>\n",
              "  </thead>\n",
              "  <tbody>\n",
              "    <tr>\n",
              "      <th>0</th>\n",
              "      <td>ABW</td>\n",
              "      <td>Aruba</td>\n",
              "      <td>North America</td>\n",
              "      <td>Caribbean</td>\n",
              "      <td>193.0</td>\n",
              "      <td>NaN</td>\n",
              "      <td>103000</td>\n",
              "      <td>78.4</td>\n",
              "      <td>828.0</td>\n",
              "      <td>793.0</td>\n",
              "      <td>Aruba</td>\n",
              "      <td>Nonmetropolitan Territory of The Netherlands</td>\n",
              "      <td>129.0</td>\n",
              "    </tr>\n",
              "    <tr>\n",
              "      <th>1</th>\n",
              "      <td>AFG</td>\n",
              "      <td>Afghanistan</td>\n",
              "      <td>Asia</td>\n",
              "      <td>Southern and Central Asia</td>\n",
              "      <td>652090.0</td>\n",
              "      <td>1919.0</td>\n",
              "      <td>22720000</td>\n",
              "      <td>45.9</td>\n",
              "      <td>5976.0</td>\n",
              "      <td>NaN</td>\n",
              "      <td>Afganistan/Afqanestan</td>\n",
              "      <td>Islamic Emirate</td>\n",
              "      <td>1.0</td>\n",
              "    </tr>\n",
              "    <tr>\n",
              "      <th>2</th>\n",
              "      <td>AGO</td>\n",
              "      <td>Angola</td>\n",
              "      <td>Africa</td>\n",
              "      <td>Central Africa</td>\n",
              "      <td>1246700.0</td>\n",
              "      <td>1975.0</td>\n",
              "      <td>12878000</td>\n",
              "      <td>38.3</td>\n",
              "      <td>6648.0</td>\n",
              "      <td>7984.0</td>\n",
              "      <td>Angola</td>\n",
              "      <td>Republic</td>\n",
              "      <td>56.0</td>\n",
              "    </tr>\n",
              "    <tr>\n",
              "      <th>3</th>\n",
              "      <td>AIA</td>\n",
              "      <td>Anguilla</td>\n",
              "      <td>North America</td>\n",
              "      <td>Caribbean</td>\n",
              "      <td>96.0</td>\n",
              "      <td>NaN</td>\n",
              "      <td>8000</td>\n",
              "      <td>76.1</td>\n",
              "      <td>63.2</td>\n",
              "      <td>NaN</td>\n",
              "      <td>Anguilla</td>\n",
              "      <td>Dependent Territory of the UK</td>\n",
              "      <td>62.0</td>\n",
              "    </tr>\n",
              "    <tr>\n",
              "      <th>4</th>\n",
              "      <td>ALB</td>\n",
              "      <td>Albania</td>\n",
              "      <td>Europe</td>\n",
              "      <td>Southern Europe</td>\n",
              "      <td>28748.0</td>\n",
              "      <td>1912.0</td>\n",
              "      <td>3401200</td>\n",
              "      <td>71.6</td>\n",
              "      <td>3205.0</td>\n",
              "      <td>2500.0</td>\n",
              "      <td>Shqipëria</td>\n",
              "      <td>Republic</td>\n",
              "      <td>34.0</td>\n",
              "    </tr>\n",
              "    <tr>\n",
              "      <th>...</th>\n",
              "      <td>...</td>\n",
              "      <td>...</td>\n",
              "      <td>...</td>\n",
              "      <td>...</td>\n",
              "      <td>...</td>\n",
              "      <td>...</td>\n",
              "      <td>...</td>\n",
              "      <td>...</td>\n",
              "      <td>...</td>\n",
              "      <td>...</td>\n",
              "      <td>...</td>\n",
              "      <td>...</td>\n",
              "      <td>...</td>\n",
              "    </tr>\n",
              "    <tr>\n",
              "      <th>234</th>\n",
              "      <td>YEM</td>\n",
              "      <td>Yemen</td>\n",
              "      <td>Asia</td>\n",
              "      <td>Middle East</td>\n",
              "      <td>527968.0</td>\n",
              "      <td>1918.0</td>\n",
              "      <td>18112000</td>\n",
              "      <td>59.8</td>\n",
              "      <td>6041.0</td>\n",
              "      <td>5729.0</td>\n",
              "      <td>Al-Yaman</td>\n",
              "      <td>Republic</td>\n",
              "      <td>1780.0</td>\n",
              "    </tr>\n",
              "    <tr>\n",
              "      <th>235</th>\n",
              "      <td>YUG</td>\n",
              "      <td>Yugoslavia</td>\n",
              "      <td>Europe</td>\n",
              "      <td>Southern Europe</td>\n",
              "      <td>102173.0</td>\n",
              "      <td>1918.0</td>\n",
              "      <td>10640000</td>\n",
              "      <td>72.4</td>\n",
              "      <td>17000.0</td>\n",
              "      <td>NaN</td>\n",
              "      <td>Jugoslavija</td>\n",
              "      <td>Federal Republic</td>\n",
              "      <td>1792.0</td>\n",
              "    </tr>\n",
              "    <tr>\n",
              "      <th>236</th>\n",
              "      <td>ZAF</td>\n",
              "      <td>South Africa</td>\n",
              "      <td>Africa</td>\n",
              "      <td>Southern Africa</td>\n",
              "      <td>1221037.0</td>\n",
              "      <td>1910.0</td>\n",
              "      <td>40377000</td>\n",
              "      <td>51.1</td>\n",
              "      <td>116729.0</td>\n",
              "      <td>129092.0</td>\n",
              "      <td>South Africa</td>\n",
              "      <td>Republic</td>\n",
              "      <td>716.0</td>\n",
              "    </tr>\n",
              "    <tr>\n",
              "      <th>237</th>\n",
              "      <td>ZMB</td>\n",
              "      <td>Zambia</td>\n",
              "      <td>Africa</td>\n",
              "      <td>Eastern Africa</td>\n",
              "      <td>752618.0</td>\n",
              "      <td>1964.0</td>\n",
              "      <td>9169000</td>\n",
              "      <td>37.2</td>\n",
              "      <td>3377.0</td>\n",
              "      <td>3922.0</td>\n",
              "      <td>Zambia</td>\n",
              "      <td>Republic</td>\n",
              "      <td>3162.0</td>\n",
              "    </tr>\n",
              "    <tr>\n",
              "      <th>238</th>\n",
              "      <td>ZWE</td>\n",
              "      <td>Zimbabwe</td>\n",
              "      <td>Africa</td>\n",
              "      <td>Eastern Africa</td>\n",
              "      <td>390757.0</td>\n",
              "      <td>1980.0</td>\n",
              "      <td>11669000</td>\n",
              "      <td>37.8</td>\n",
              "      <td>5951.0</td>\n",
              "      <td>8670.0</td>\n",
              "      <td>Zimbabwe</td>\n",
              "      <td>Republic</td>\n",
              "      <td>4068.0</td>\n",
              "    </tr>\n",
              "  </tbody>\n",
              "</table>\n",
              "<p>239 rows × 13 columns</p>\n",
              "</div>\n",
              "      <button class=\"colab-df-convert\" onclick=\"convertToInteractive('df-ebd0baaa-17e1-4a92-86e0-aa6638fc89d3')\"\n",
              "              title=\"Convert this dataframe to an interactive table.\"\n",
              "              style=\"display:none;\">\n",
              "\n",
              "  <svg xmlns=\"http://www.w3.org/2000/svg\" height=\"24px\"viewBox=\"0 0 24 24\"\n",
              "       width=\"24px\">\n",
              "    <path d=\"M0 0h24v24H0V0z\" fill=\"none\"/>\n",
              "    <path d=\"M18.56 5.44l.94 2.06.94-2.06 2.06-.94-2.06-.94-.94-2.06-.94 2.06-2.06.94zm-11 1L8.5 8.5l.94-2.06 2.06-.94-2.06-.94L8.5 2.5l-.94 2.06-2.06.94zm10 10l.94 2.06.94-2.06 2.06-.94-2.06-.94-.94-2.06-.94 2.06-2.06.94z\"/><path d=\"M17.41 7.96l-1.37-1.37c-.4-.4-.92-.59-1.43-.59-.52 0-1.04.2-1.43.59L10.3 9.45l-7.72 7.72c-.78.78-.78 2.05 0 2.83L4 21.41c.39.39.9.59 1.41.59.51 0 1.02-.2 1.41-.59l7.78-7.78 2.81-2.81c.8-.78.8-2.07 0-2.86zM5.41 20L4 18.59l7.72-7.72 1.47 1.35L5.41 20z\"/>\n",
              "  </svg>\n",
              "      </button>\n",
              "\n",
              "\n",
              "\n",
              "    <div id=\"df-ec4fa007-95c9-4139-9733-39d732d88246\">\n",
              "      <button class=\"colab-df-quickchart\" onclick=\"quickchart('df-ec4fa007-95c9-4139-9733-39d732d88246')\"\n",
              "              title=\"Suggest charts.\"\n",
              "              style=\"display:none;\">\n",
              "\n",
              "<svg xmlns=\"http://www.w3.org/2000/svg\" height=\"24px\"viewBox=\"0 0 24 24\"\n",
              "     width=\"24px\">\n",
              "    <g>\n",
              "        <path d=\"M19 3H5c-1.1 0-2 .9-2 2v14c0 1.1.9 2 2 2h14c1.1 0 2-.9 2-2V5c0-1.1-.9-2-2-2zM9 17H7v-7h2v7zm4 0h-2V7h2v10zm4 0h-2v-4h2v4z\"/>\n",
              "    </g>\n",
              "</svg>\n",
              "      </button>\n",
              "    </div>\n",
              "\n",
              "<style>\n",
              "  .colab-df-quickchart {\n",
              "    background-color: #E8F0FE;\n",
              "    border: none;\n",
              "    border-radius: 50%;\n",
              "    cursor: pointer;\n",
              "    display: none;\n",
              "    fill: #1967D2;\n",
              "    height: 32px;\n",
              "    padding: 0 0 0 0;\n",
              "    width: 32px;\n",
              "  }\n",
              "\n",
              "  .colab-df-quickchart:hover {\n",
              "    background-color: #E2EBFA;\n",
              "    box-shadow: 0px 1px 2px rgba(60, 64, 67, 0.3), 0px 1px 3px 1px rgba(60, 64, 67, 0.15);\n",
              "    fill: #174EA6;\n",
              "  }\n",
              "\n",
              "  [theme=dark] .colab-df-quickchart {\n",
              "    background-color: #3B4455;\n",
              "    fill: #D2E3FC;\n",
              "  }\n",
              "\n",
              "  [theme=dark] .colab-df-quickchart:hover {\n",
              "    background-color: #434B5C;\n",
              "    box-shadow: 0px 1px 3px 1px rgba(0, 0, 0, 0.15);\n",
              "    filter: drop-shadow(0px 1px 2px rgba(0, 0, 0, 0.3));\n",
              "    fill: #FFFFFF;\n",
              "  }\n",
              "</style>\n",
              "\n",
              "    <script>\n",
              "      async function quickchart(key) {\n",
              "        const containerElement = document.querySelector('#' + key);\n",
              "        const charts = await google.colab.kernel.invokeFunction(\n",
              "            'suggestCharts', [key], {});\n",
              "      }\n",
              "    </script>\n",
              "\n",
              "      <script>\n",
              "\n",
              "function displayQuickchartButton(domScope) {\n",
              "  let quickchartButtonEl =\n",
              "    domScope.querySelector('#df-ec4fa007-95c9-4139-9733-39d732d88246 button.colab-df-quickchart');\n",
              "  quickchartButtonEl.style.display =\n",
              "    google.colab.kernel.accessAllowed ? 'block' : 'none';\n",
              "}\n",
              "\n",
              "        displayQuickchartButton(document);\n",
              "      </script>\n",
              "      <style>\n",
              "    .colab-df-container {\n",
              "      display:flex;\n",
              "      flex-wrap:wrap;\n",
              "      gap: 12px;\n",
              "    }\n",
              "\n",
              "    .colab-df-convert {\n",
              "      background-color: #E8F0FE;\n",
              "      border: none;\n",
              "      border-radius: 50%;\n",
              "      cursor: pointer;\n",
              "      display: none;\n",
              "      fill: #1967D2;\n",
              "      height: 32px;\n",
              "      padding: 0 0 0 0;\n",
              "      width: 32px;\n",
              "    }\n",
              "\n",
              "    .colab-df-convert:hover {\n",
              "      background-color: #E2EBFA;\n",
              "      box-shadow: 0px 1px 2px rgba(60, 64, 67, 0.3), 0px 1px 3px 1px rgba(60, 64, 67, 0.15);\n",
              "      fill: #174EA6;\n",
              "    }\n",
              "\n",
              "    [theme=dark] .colab-df-convert {\n",
              "      background-color: #3B4455;\n",
              "      fill: #D2E3FC;\n",
              "    }\n",
              "\n",
              "    [theme=dark] .colab-df-convert:hover {\n",
              "      background-color: #434B5C;\n",
              "      box-shadow: 0px 1px 3px 1px rgba(0, 0, 0, 0.15);\n",
              "      filter: drop-shadow(0px 1px 2px rgba(0, 0, 0, 0.3));\n",
              "      fill: #FFFFFF;\n",
              "    }\n",
              "  </style>\n",
              "\n",
              "      <script>\n",
              "        const buttonEl =\n",
              "          document.querySelector('#df-ebd0baaa-17e1-4a92-86e0-aa6638fc89d3 button.colab-df-convert');\n",
              "        buttonEl.style.display =\n",
              "          google.colab.kernel.accessAllowed ? 'block' : 'none';\n",
              "\n",
              "        async function convertToInteractive(key) {\n",
              "          const element = document.querySelector('#df-ebd0baaa-17e1-4a92-86e0-aa6638fc89d3');\n",
              "          const dataTable =\n",
              "            await google.colab.kernel.invokeFunction('convertToInteractive',\n",
              "                                                     [key], {});\n",
              "          if (!dataTable) return;\n",
              "\n",
              "          const docLinkHtml = 'Like what you see? Visit the ' +\n",
              "            '<a target=\"_blank\" href=https://colab.research.google.com/notebooks/data_table.ipynb>data table notebook</a>'\n",
              "            + ' to learn more about interactive tables.';\n",
              "          element.innerHTML = '';\n",
              "          dataTable['output_type'] = 'display_data';\n",
              "          await google.colab.output.renderOutput(dataTable, element);\n",
              "          const docLink = document.createElement('div');\n",
              "          docLink.innerHTML = docLinkHtml;\n",
              "          element.appendChild(docLink);\n",
              "        }\n",
              "      </script>\n",
              "    </div>\n",
              "  </div>\n"
            ]
          },
          "metadata": {},
          "execution_count": 2
        }
      ]
    },
    {
      "cell_type": "code",
      "metadata": {
        "colab": {
          "base_uri": "https://localhost:8080/",
          "height": 424
        },
        "id": "vW11NZiDXJIj",
        "outputId": "9633bfcd-525c-4be0-e77a-b0771a021af2"
      },
      "source": [
        "cities = pd.read_csv('/content/drive/MyDrive/Data Science/Archivos Excel/world_table_city.csv')\n",
        "cities"
      ],
      "execution_count": null,
      "outputs": [
        {
          "output_type": "execute_result",
          "data": {
            "text/plain": [
              "        ID            Name CountryCode       District  Population\n",
              "0        1           Kabul         AFG          Kabol     1780000\n",
              "1        2        Qandahar         AFG       Qandahar      237500\n",
              "2        3           Herat         AFG          Herat      186800\n",
              "3        4  Mazar-e-Sharif         AFG          Balkh      127800\n",
              "4        5       Amsterdam         NLD  Noord-Holland      731200\n",
              "...    ...             ...         ...            ...         ...\n",
              "4074  4075      Khan Yunis         PSE     Khan Yunis      123175\n",
              "4075  4076          Hebron         PSE         Hebron      119401\n",
              "4076  4077        Jabaliya         PSE     North Gaza      113901\n",
              "4077  4078          Nablus         PSE         Nablus      100231\n",
              "4078  4079           Rafah         PSE          Rafah       92020\n",
              "\n",
              "[4079 rows x 5 columns]"
            ],
            "text/html": [
              "\n",
              "  <div id=\"df-507b3929-81f1-4986-a17c-4fb395e2d1da\">\n",
              "    <div class=\"colab-df-container\">\n",
              "      <div>\n",
              "<style scoped>\n",
              "    .dataframe tbody tr th:only-of-type {\n",
              "        vertical-align: middle;\n",
              "    }\n",
              "\n",
              "    .dataframe tbody tr th {\n",
              "        vertical-align: top;\n",
              "    }\n",
              "\n",
              "    .dataframe thead th {\n",
              "        text-align: right;\n",
              "    }\n",
              "</style>\n",
              "<table border=\"1\" class=\"dataframe\">\n",
              "  <thead>\n",
              "    <tr style=\"text-align: right;\">\n",
              "      <th></th>\n",
              "      <th>ID</th>\n",
              "      <th>Name</th>\n",
              "      <th>CountryCode</th>\n",
              "      <th>District</th>\n",
              "      <th>Population</th>\n",
              "    </tr>\n",
              "  </thead>\n",
              "  <tbody>\n",
              "    <tr>\n",
              "      <th>0</th>\n",
              "      <td>1</td>\n",
              "      <td>Kabul</td>\n",
              "      <td>AFG</td>\n",
              "      <td>Kabol</td>\n",
              "      <td>1780000</td>\n",
              "    </tr>\n",
              "    <tr>\n",
              "      <th>1</th>\n",
              "      <td>2</td>\n",
              "      <td>Qandahar</td>\n",
              "      <td>AFG</td>\n",
              "      <td>Qandahar</td>\n",
              "      <td>237500</td>\n",
              "    </tr>\n",
              "    <tr>\n",
              "      <th>2</th>\n",
              "      <td>3</td>\n",
              "      <td>Herat</td>\n",
              "      <td>AFG</td>\n",
              "      <td>Herat</td>\n",
              "      <td>186800</td>\n",
              "    </tr>\n",
              "    <tr>\n",
              "      <th>3</th>\n",
              "      <td>4</td>\n",
              "      <td>Mazar-e-Sharif</td>\n",
              "      <td>AFG</td>\n",
              "      <td>Balkh</td>\n",
              "      <td>127800</td>\n",
              "    </tr>\n",
              "    <tr>\n",
              "      <th>4</th>\n",
              "      <td>5</td>\n",
              "      <td>Amsterdam</td>\n",
              "      <td>NLD</td>\n",
              "      <td>Noord-Holland</td>\n",
              "      <td>731200</td>\n",
              "    </tr>\n",
              "    <tr>\n",
              "      <th>...</th>\n",
              "      <td>...</td>\n",
              "      <td>...</td>\n",
              "      <td>...</td>\n",
              "      <td>...</td>\n",
              "      <td>...</td>\n",
              "    </tr>\n",
              "    <tr>\n",
              "      <th>4074</th>\n",
              "      <td>4075</td>\n",
              "      <td>Khan Yunis</td>\n",
              "      <td>PSE</td>\n",
              "      <td>Khan Yunis</td>\n",
              "      <td>123175</td>\n",
              "    </tr>\n",
              "    <tr>\n",
              "      <th>4075</th>\n",
              "      <td>4076</td>\n",
              "      <td>Hebron</td>\n",
              "      <td>PSE</td>\n",
              "      <td>Hebron</td>\n",
              "      <td>119401</td>\n",
              "    </tr>\n",
              "    <tr>\n",
              "      <th>4076</th>\n",
              "      <td>4077</td>\n",
              "      <td>Jabaliya</td>\n",
              "      <td>PSE</td>\n",
              "      <td>North Gaza</td>\n",
              "      <td>113901</td>\n",
              "    </tr>\n",
              "    <tr>\n",
              "      <th>4077</th>\n",
              "      <td>4078</td>\n",
              "      <td>Nablus</td>\n",
              "      <td>PSE</td>\n",
              "      <td>Nablus</td>\n",
              "      <td>100231</td>\n",
              "    </tr>\n",
              "    <tr>\n",
              "      <th>4078</th>\n",
              "      <td>4079</td>\n",
              "      <td>Rafah</td>\n",
              "      <td>PSE</td>\n",
              "      <td>Rafah</td>\n",
              "      <td>92020</td>\n",
              "    </tr>\n",
              "  </tbody>\n",
              "</table>\n",
              "<p>4079 rows × 5 columns</p>\n",
              "</div>\n",
              "      <button class=\"colab-df-convert\" onclick=\"convertToInteractive('df-507b3929-81f1-4986-a17c-4fb395e2d1da')\"\n",
              "              title=\"Convert this dataframe to an interactive table.\"\n",
              "              style=\"display:none;\">\n",
              "        \n",
              "  <svg xmlns=\"http://www.w3.org/2000/svg\" height=\"24px\"viewBox=\"0 0 24 24\"\n",
              "       width=\"24px\">\n",
              "    <path d=\"M0 0h24v24H0V0z\" fill=\"none\"/>\n",
              "    <path d=\"M18.56 5.44l.94 2.06.94-2.06 2.06-.94-2.06-.94-.94-2.06-.94 2.06-2.06.94zm-11 1L8.5 8.5l.94-2.06 2.06-.94-2.06-.94L8.5 2.5l-.94 2.06-2.06.94zm10 10l.94 2.06.94-2.06 2.06-.94-2.06-.94-.94-2.06-.94 2.06-2.06.94z\"/><path d=\"M17.41 7.96l-1.37-1.37c-.4-.4-.92-.59-1.43-.59-.52 0-1.04.2-1.43.59L10.3 9.45l-7.72 7.72c-.78.78-.78 2.05 0 2.83L4 21.41c.39.39.9.59 1.41.59.51 0 1.02-.2 1.41-.59l7.78-7.78 2.81-2.81c.8-.78.8-2.07 0-2.86zM5.41 20L4 18.59l7.72-7.72 1.47 1.35L5.41 20z\"/>\n",
              "  </svg>\n",
              "      </button>\n",
              "      \n",
              "  <style>\n",
              "    .colab-df-container {\n",
              "      display:flex;\n",
              "      flex-wrap:wrap;\n",
              "      gap: 12px;\n",
              "    }\n",
              "\n",
              "    .colab-df-convert {\n",
              "      background-color: #E8F0FE;\n",
              "      border: none;\n",
              "      border-radius: 50%;\n",
              "      cursor: pointer;\n",
              "      display: none;\n",
              "      fill: #1967D2;\n",
              "      height: 32px;\n",
              "      padding: 0 0 0 0;\n",
              "      width: 32px;\n",
              "    }\n",
              "\n",
              "    .colab-df-convert:hover {\n",
              "      background-color: #E2EBFA;\n",
              "      box-shadow: 0px 1px 2px rgba(60, 64, 67, 0.3), 0px 1px 3px 1px rgba(60, 64, 67, 0.15);\n",
              "      fill: #174EA6;\n",
              "    }\n",
              "\n",
              "    [theme=dark] .colab-df-convert {\n",
              "      background-color: #3B4455;\n",
              "      fill: #D2E3FC;\n",
              "    }\n",
              "\n",
              "    [theme=dark] .colab-df-convert:hover {\n",
              "      background-color: #434B5C;\n",
              "      box-shadow: 0px 1px 3px 1px rgba(0, 0, 0, 0.15);\n",
              "      filter: drop-shadow(0px 1px 2px rgba(0, 0, 0, 0.3));\n",
              "      fill: #FFFFFF;\n",
              "    }\n",
              "  </style>\n",
              "\n",
              "      <script>\n",
              "        const buttonEl =\n",
              "          document.querySelector('#df-507b3929-81f1-4986-a17c-4fb395e2d1da button.colab-df-convert');\n",
              "        buttonEl.style.display =\n",
              "          google.colab.kernel.accessAllowed ? 'block' : 'none';\n",
              "\n",
              "        async function convertToInteractive(key) {\n",
              "          const element = document.querySelector('#df-507b3929-81f1-4986-a17c-4fb395e2d1da');\n",
              "          const dataTable =\n",
              "            await google.colab.kernel.invokeFunction('convertToInteractive',\n",
              "                                                     [key], {});\n",
              "          if (!dataTable) return;\n",
              "\n",
              "          const docLinkHtml = 'Like what you see? Visit the ' +\n",
              "            '<a target=\"_blank\" href=https://colab.research.google.com/notebooks/data_table.ipynb>data table notebook</a>'\n",
              "            + ' to learn more about interactive tables.';\n",
              "          element.innerHTML = '';\n",
              "          dataTable['output_type'] = 'display_data';\n",
              "          await google.colab.output.renderOutput(dataTable, element);\n",
              "          const docLink = document.createElement('div');\n",
              "          docLink.innerHTML = docLinkHtml;\n",
              "          element.appendChild(docLink);\n",
              "        }\n",
              "      </script>\n",
              "    </div>\n",
              "  </div>\n",
              "  "
            ]
          },
          "metadata": {},
          "execution_count": 5
        }
      ]
    },
    {
      "cell_type": "markdown",
      "metadata": {
        "id": "lOixpTny-G0I"
      },
      "source": [
        "*   Realizar un análisis de la estructura de `countries`\n"
      ]
    },
    {
      "cell_type": "code",
      "metadata": {
        "id": "PQuPP1VX8-z0",
        "colab": {
          "base_uri": "https://localhost:8080/"
        },
        "outputId": "efa03c07-41b0-4e4c-cd8a-9b9bde8cd087"
      },
      "source": [
        "#countries.head(3) #Mostrar los primeros 3 registros de la tabla\n",
        "#countries.tail(3) #Mostrar los ultimos 3 registros de la tabla\n",
        "#countries.nunique() #Valores unicos dentro de cada colummna\n",
        "#countries['Continent'].value_counts() #Valores que tenemos en cada una de las categorias/columnas\n",
        "#countries.isna().sum() #Conteo de registros que tienen un valor NAN por cada columna, sin el .sum seria una grafica booleana de cada registro/columna\n",
        "#countries.shape #Nos dice el numero de filas y columnas\n",
        "#countries.columns #Nos da el nombre de cada columna\n",
        "#countries.index #El numero de indices o filas/registros\n",
        "#countries.dtypes #Nos dice el tipo de objeto que guarda cada columna"
      ],
      "execution_count": null,
      "outputs": [
        {
          "output_type": "execute_result",
          "data": {
            "text/plain": [
              "Code               object\n",
              "Name               object\n",
              "Continent          object\n",
              "Region             object\n",
              "SurfaceArea       float64\n",
              "IndepYear         float64\n",
              "Population          int64\n",
              "LifeExpectancy    float64\n",
              "GNP               float64\n",
              "GNPOld            float64\n",
              "LocalName          object\n",
              "GovernmentForm     object\n",
              "Capital           float64\n",
              "dtype: object"
            ]
          },
          "metadata": {},
          "execution_count": 16
        }
      ]
    },
    {
      "cell_type": "markdown",
      "metadata": {
        "id": "m7KpcLwX-QpK"
      },
      "source": [
        "\n",
        "*   Explorar el contenido de `countries`\n",
        "\n"
      ]
    },
    {
      "cell_type": "code",
      "metadata": {
        "id": "TvT2UhsC-Z-F"
      },
      "source": [],
      "execution_count": null,
      "outputs": []
    },
    {
      "cell_type": "markdown",
      "metadata": {
        "id": "1vgaInl3-ebf"
      },
      "source": [
        "*   Borrar los registros que tengan `NaN` en la columna `Capital`\n"
      ]
    },
    {
      "cell_type": "code",
      "metadata": {
        "id": "8TH1J6YR-oaR",
        "colab": {
          "base_uri": "https://localhost:8080/"
        },
        "outputId": "49a9f410-0f7f-4cbb-c0a7-f462af282317"
      },
      "source": [
        "#countries[countries['Capital'].isna()] #Identificar los registros que en capital contienen un valor NAN\n",
        "countries.dropna(axis=0, subset=['Capital'], inplace=True) #Eliminar los valores de la capital donde capital tenga un valor NAN\n",
        "countries.isna().sum() #Comprobar con 0 que se eliminaron los registros que tenian NAN"
      ],
      "execution_count": null,
      "outputs": [
        {
          "output_type": "execute_result",
          "data": {
            "text/plain": [
              "Code               0\n",
              "Name               0\n",
              "Continent          0\n",
              "Region             0\n",
              "SurfaceArea        0\n",
              "IndepYear         40\n",
              "Population         0\n",
              "LifeExpectancy    10\n",
              "GNP                0\n",
              "GNPOld            54\n",
              "LocalName          0\n",
              "GovernmentForm     0\n",
              "Capital            0\n",
              "dtype: int64"
            ]
          },
          "metadata": {},
          "execution_count": 21
        }
      ]
    },
    {
      "cell_type": "markdown",
      "metadata": {
        "id": "aUQRuM9K-qln"
      },
      "source": [
        "*   Ejecutar el mismo análisis con `cities`\n"
      ]
    },
    {
      "cell_type": "code",
      "metadata": {
        "id": "dK6S9i1m-y3h"
      },
      "source": [
        "#cities.head(3) #Mostrar los primeros 3 registros de la tabla\n",
        "#cities.tail(3) #Mostrar los ultimos 3 registros de la tabla\n",
        "#cities.nunique() #Valores unicos dentro de cada colummna\n",
        "#cities['Continent'].value_counts() #Valores que tenemos en cada una de las categorias/columnas\n",
        "#cities.isna().sum() #Conteo de registros que tienen un valor NAN por cada columna, sin el .sum seria una grafica booleana de cada registro/columna\n",
        "#cities.shape #Nos dice el numero de filas y columnas\n",
        "#cities.columns #Nos da el nombre de cada columna\n",
        "#cities.index #El numero de indices o filas/registros\n",
        "#cities.dtypes #Nos dice el tipo de objeto que guarda cada columna"
      ],
      "execution_count": null,
      "outputs": []
    },
    {
      "cell_type": "markdown",
      "metadata": {
        "id": "WioWFI8H-1Z6"
      },
      "source": [
        "\n",
        "\n",
        "*   Combinar ambos dataframes\n",
        "\n",
        "\n"
      ]
    },
    {
      "cell_type": "code",
      "metadata": {
        "id": "5xxrm3Dt-6nJ",
        "colab": {
          "base_uri": "https://localhost:8080/",
          "height": 731
        },
        "outputId": "e1327964-85a6-4cee-89cf-58dfc9446bd3"
      },
      "source": [
        "#Ambas tablas se relacionan mediante el Capital y el ID de respectivas tablas (Es una opcion, hay otras columnas con las cuales podemos relacionar)\n",
        "countries_cities = countries.merge(cities, left_on='Capital', right_on='ID', suffixes=('_Countriy', '_City'))\n",
        "countries_cities"
      ],
      "execution_count": null,
      "outputs": [
        {
          "output_type": "execute_result",
          "data": {
            "text/plain": [
              "    Code Name_Countriy      Continent                     Region  SurfaceArea  \\\n",
              "0    ABW         Aruba  North America                  Caribbean        193.0   \n",
              "1    AFG   Afghanistan           Asia  Southern and Central Asia     652090.0   \n",
              "2    AGO        Angola         Africa             Central Africa    1246700.0   \n",
              "3    AIA      Anguilla  North America                  Caribbean         96.0   \n",
              "4    ALB       Albania         Europe            Southern Europe      28748.0   \n",
              "..   ...           ...            ...                        ...          ...   \n",
              "227  YEM         Yemen           Asia                Middle East     527968.0   \n",
              "228  YUG    Yugoslavia         Europe            Southern Europe     102173.0   \n",
              "229  ZAF  South Africa         Africa            Southern Africa    1221037.0   \n",
              "230  ZMB        Zambia         Africa             Eastern Africa     752618.0   \n",
              "231  ZWE      Zimbabwe         Africa             Eastern Africa     390757.0   \n",
              "\n",
              "     IndepYear  Population_Countriy  LifeExpectancy       GNP    GNPOld  \\\n",
              "0          NaN               103000            78.4     828.0     793.0   \n",
              "1       1919.0             22720000            45.9    5976.0       NaN   \n",
              "2       1975.0             12878000            38.3    6648.0    7984.0   \n",
              "3          NaN                 8000            76.1      63.2       NaN   \n",
              "4       1912.0              3401200            71.6    3205.0    2500.0   \n",
              "..         ...                  ...             ...       ...       ...   \n",
              "227     1918.0             18112000            59.8    6041.0    5729.0   \n",
              "228     1918.0             10640000            72.4   17000.0       NaN   \n",
              "229     1910.0             40377000            51.1  116729.0  129092.0   \n",
              "230     1964.0              9169000            37.2    3377.0    3922.0   \n",
              "231     1980.0             11669000            37.8    5951.0    8670.0   \n",
              "\n",
              "                 LocalName                                GovernmentForm  \\\n",
              "0                    Aruba  Nonmetropolitan Territory of The Netherlands   \n",
              "1    Afganistan/Afqanestan                               Islamic Emirate   \n",
              "2                   Angola                                      Republic   \n",
              "3                 Anguilla                 Dependent Territory of the UK   \n",
              "4                Shqipëria                                      Republic   \n",
              "..                     ...                                           ...   \n",
              "227               Al-Yaman                                      Republic   \n",
              "228            Jugoslavija                              Federal Republic   \n",
              "229           South Africa                                      Republic   \n",
              "230                 Zambia                                      Republic   \n",
              "231               Zimbabwe                                      Republic   \n",
              "\n",
              "     Capital    ID   Name_City CountryCode        District  Population_City  \n",
              "0      129.0   129  Oranjestad         ABW               –            29034  \n",
              "1        1.0     1       Kabul         AFG           Kabol          1780000  \n",
              "2       56.0    56      Luanda         AGO          Luanda          2022000  \n",
              "3       62.0    62  The Valley         AIA               –              595  \n",
              "4       34.0    34      Tirana         ALB          Tirana           270000  \n",
              "..       ...   ...         ...         ...             ...              ...  \n",
              "227   1780.0  1780       Sanaa         YEM           Sanaa           503600  \n",
              "228   1792.0  1792     Beograd         YUG  Central Serbia          1204000  \n",
              "229    716.0   716    Pretoria         ZAF         Gauteng           658630  \n",
              "230   3162.0  3162      Lusaka         ZMB          Lusaka          1317000  \n",
              "231   4068.0  4068      Harare         ZWE          Harare          1410000  \n",
              "\n",
              "[232 rows x 18 columns]"
            ],
            "text/html": [
              "\n",
              "  <div id=\"df-acc9a73a-5e7a-4054-a3e7-c24c955b2f91\">\n",
              "    <div class=\"colab-df-container\">\n",
              "      <div>\n",
              "<style scoped>\n",
              "    .dataframe tbody tr th:only-of-type {\n",
              "        vertical-align: middle;\n",
              "    }\n",
              "\n",
              "    .dataframe tbody tr th {\n",
              "        vertical-align: top;\n",
              "    }\n",
              "\n",
              "    .dataframe thead th {\n",
              "        text-align: right;\n",
              "    }\n",
              "</style>\n",
              "<table border=\"1\" class=\"dataframe\">\n",
              "  <thead>\n",
              "    <tr style=\"text-align: right;\">\n",
              "      <th></th>\n",
              "      <th>Code</th>\n",
              "      <th>Name_Countriy</th>\n",
              "      <th>Continent</th>\n",
              "      <th>Region</th>\n",
              "      <th>SurfaceArea</th>\n",
              "      <th>IndepYear</th>\n",
              "      <th>Population_Countriy</th>\n",
              "      <th>LifeExpectancy</th>\n",
              "      <th>GNP</th>\n",
              "      <th>GNPOld</th>\n",
              "      <th>LocalName</th>\n",
              "      <th>GovernmentForm</th>\n",
              "      <th>Capital</th>\n",
              "      <th>ID</th>\n",
              "      <th>Name_City</th>\n",
              "      <th>CountryCode</th>\n",
              "      <th>District</th>\n",
              "      <th>Population_City</th>\n",
              "    </tr>\n",
              "  </thead>\n",
              "  <tbody>\n",
              "    <tr>\n",
              "      <th>0</th>\n",
              "      <td>ABW</td>\n",
              "      <td>Aruba</td>\n",
              "      <td>North America</td>\n",
              "      <td>Caribbean</td>\n",
              "      <td>193.0</td>\n",
              "      <td>NaN</td>\n",
              "      <td>103000</td>\n",
              "      <td>78.4</td>\n",
              "      <td>828.0</td>\n",
              "      <td>793.0</td>\n",
              "      <td>Aruba</td>\n",
              "      <td>Nonmetropolitan Territory of The Netherlands</td>\n",
              "      <td>129.0</td>\n",
              "      <td>129</td>\n",
              "      <td>Oranjestad</td>\n",
              "      <td>ABW</td>\n",
              "      <td>–</td>\n",
              "      <td>29034</td>\n",
              "    </tr>\n",
              "    <tr>\n",
              "      <th>1</th>\n",
              "      <td>AFG</td>\n",
              "      <td>Afghanistan</td>\n",
              "      <td>Asia</td>\n",
              "      <td>Southern and Central Asia</td>\n",
              "      <td>652090.0</td>\n",
              "      <td>1919.0</td>\n",
              "      <td>22720000</td>\n",
              "      <td>45.9</td>\n",
              "      <td>5976.0</td>\n",
              "      <td>NaN</td>\n",
              "      <td>Afganistan/Afqanestan</td>\n",
              "      <td>Islamic Emirate</td>\n",
              "      <td>1.0</td>\n",
              "      <td>1</td>\n",
              "      <td>Kabul</td>\n",
              "      <td>AFG</td>\n",
              "      <td>Kabol</td>\n",
              "      <td>1780000</td>\n",
              "    </tr>\n",
              "    <tr>\n",
              "      <th>2</th>\n",
              "      <td>AGO</td>\n",
              "      <td>Angola</td>\n",
              "      <td>Africa</td>\n",
              "      <td>Central Africa</td>\n",
              "      <td>1246700.0</td>\n",
              "      <td>1975.0</td>\n",
              "      <td>12878000</td>\n",
              "      <td>38.3</td>\n",
              "      <td>6648.0</td>\n",
              "      <td>7984.0</td>\n",
              "      <td>Angola</td>\n",
              "      <td>Republic</td>\n",
              "      <td>56.0</td>\n",
              "      <td>56</td>\n",
              "      <td>Luanda</td>\n",
              "      <td>AGO</td>\n",
              "      <td>Luanda</td>\n",
              "      <td>2022000</td>\n",
              "    </tr>\n",
              "    <tr>\n",
              "      <th>3</th>\n",
              "      <td>AIA</td>\n",
              "      <td>Anguilla</td>\n",
              "      <td>North America</td>\n",
              "      <td>Caribbean</td>\n",
              "      <td>96.0</td>\n",
              "      <td>NaN</td>\n",
              "      <td>8000</td>\n",
              "      <td>76.1</td>\n",
              "      <td>63.2</td>\n",
              "      <td>NaN</td>\n",
              "      <td>Anguilla</td>\n",
              "      <td>Dependent Territory of the UK</td>\n",
              "      <td>62.0</td>\n",
              "      <td>62</td>\n",
              "      <td>The Valley</td>\n",
              "      <td>AIA</td>\n",
              "      <td>–</td>\n",
              "      <td>595</td>\n",
              "    </tr>\n",
              "    <tr>\n",
              "      <th>4</th>\n",
              "      <td>ALB</td>\n",
              "      <td>Albania</td>\n",
              "      <td>Europe</td>\n",
              "      <td>Southern Europe</td>\n",
              "      <td>28748.0</td>\n",
              "      <td>1912.0</td>\n",
              "      <td>3401200</td>\n",
              "      <td>71.6</td>\n",
              "      <td>3205.0</td>\n",
              "      <td>2500.0</td>\n",
              "      <td>Shqipëria</td>\n",
              "      <td>Republic</td>\n",
              "      <td>34.0</td>\n",
              "      <td>34</td>\n",
              "      <td>Tirana</td>\n",
              "      <td>ALB</td>\n",
              "      <td>Tirana</td>\n",
              "      <td>270000</td>\n",
              "    </tr>\n",
              "    <tr>\n",
              "      <th>...</th>\n",
              "      <td>...</td>\n",
              "      <td>...</td>\n",
              "      <td>...</td>\n",
              "      <td>...</td>\n",
              "      <td>...</td>\n",
              "      <td>...</td>\n",
              "      <td>...</td>\n",
              "      <td>...</td>\n",
              "      <td>...</td>\n",
              "      <td>...</td>\n",
              "      <td>...</td>\n",
              "      <td>...</td>\n",
              "      <td>...</td>\n",
              "      <td>...</td>\n",
              "      <td>...</td>\n",
              "      <td>...</td>\n",
              "      <td>...</td>\n",
              "      <td>...</td>\n",
              "    </tr>\n",
              "    <tr>\n",
              "      <th>227</th>\n",
              "      <td>YEM</td>\n",
              "      <td>Yemen</td>\n",
              "      <td>Asia</td>\n",
              "      <td>Middle East</td>\n",
              "      <td>527968.0</td>\n",
              "      <td>1918.0</td>\n",
              "      <td>18112000</td>\n",
              "      <td>59.8</td>\n",
              "      <td>6041.0</td>\n",
              "      <td>5729.0</td>\n",
              "      <td>Al-Yaman</td>\n",
              "      <td>Republic</td>\n",
              "      <td>1780.0</td>\n",
              "      <td>1780</td>\n",
              "      <td>Sanaa</td>\n",
              "      <td>YEM</td>\n",
              "      <td>Sanaa</td>\n",
              "      <td>503600</td>\n",
              "    </tr>\n",
              "    <tr>\n",
              "      <th>228</th>\n",
              "      <td>YUG</td>\n",
              "      <td>Yugoslavia</td>\n",
              "      <td>Europe</td>\n",
              "      <td>Southern Europe</td>\n",
              "      <td>102173.0</td>\n",
              "      <td>1918.0</td>\n",
              "      <td>10640000</td>\n",
              "      <td>72.4</td>\n",
              "      <td>17000.0</td>\n",
              "      <td>NaN</td>\n",
              "      <td>Jugoslavija</td>\n",
              "      <td>Federal Republic</td>\n",
              "      <td>1792.0</td>\n",
              "      <td>1792</td>\n",
              "      <td>Beograd</td>\n",
              "      <td>YUG</td>\n",
              "      <td>Central Serbia</td>\n",
              "      <td>1204000</td>\n",
              "    </tr>\n",
              "    <tr>\n",
              "      <th>229</th>\n",
              "      <td>ZAF</td>\n",
              "      <td>South Africa</td>\n",
              "      <td>Africa</td>\n",
              "      <td>Southern Africa</td>\n",
              "      <td>1221037.0</td>\n",
              "      <td>1910.0</td>\n",
              "      <td>40377000</td>\n",
              "      <td>51.1</td>\n",
              "      <td>116729.0</td>\n",
              "      <td>129092.0</td>\n",
              "      <td>South Africa</td>\n",
              "      <td>Republic</td>\n",
              "      <td>716.0</td>\n",
              "      <td>716</td>\n",
              "      <td>Pretoria</td>\n",
              "      <td>ZAF</td>\n",
              "      <td>Gauteng</td>\n",
              "      <td>658630</td>\n",
              "    </tr>\n",
              "    <tr>\n",
              "      <th>230</th>\n",
              "      <td>ZMB</td>\n",
              "      <td>Zambia</td>\n",
              "      <td>Africa</td>\n",
              "      <td>Eastern Africa</td>\n",
              "      <td>752618.0</td>\n",
              "      <td>1964.0</td>\n",
              "      <td>9169000</td>\n",
              "      <td>37.2</td>\n",
              "      <td>3377.0</td>\n",
              "      <td>3922.0</td>\n",
              "      <td>Zambia</td>\n",
              "      <td>Republic</td>\n",
              "      <td>3162.0</td>\n",
              "      <td>3162</td>\n",
              "      <td>Lusaka</td>\n",
              "      <td>ZMB</td>\n",
              "      <td>Lusaka</td>\n",
              "      <td>1317000</td>\n",
              "    </tr>\n",
              "    <tr>\n",
              "      <th>231</th>\n",
              "      <td>ZWE</td>\n",
              "      <td>Zimbabwe</td>\n",
              "      <td>Africa</td>\n",
              "      <td>Eastern Africa</td>\n",
              "      <td>390757.0</td>\n",
              "      <td>1980.0</td>\n",
              "      <td>11669000</td>\n",
              "      <td>37.8</td>\n",
              "      <td>5951.0</td>\n",
              "      <td>8670.0</td>\n",
              "      <td>Zimbabwe</td>\n",
              "      <td>Republic</td>\n",
              "      <td>4068.0</td>\n",
              "      <td>4068</td>\n",
              "      <td>Harare</td>\n",
              "      <td>ZWE</td>\n",
              "      <td>Harare</td>\n",
              "      <td>1410000</td>\n",
              "    </tr>\n",
              "  </tbody>\n",
              "</table>\n",
              "<p>232 rows × 18 columns</p>\n",
              "</div>\n",
              "      <button class=\"colab-df-convert\" onclick=\"convertToInteractive('df-acc9a73a-5e7a-4054-a3e7-c24c955b2f91')\"\n",
              "              title=\"Convert this dataframe to an interactive table.\"\n",
              "              style=\"display:none;\">\n",
              "        \n",
              "  <svg xmlns=\"http://www.w3.org/2000/svg\" height=\"24px\"viewBox=\"0 0 24 24\"\n",
              "       width=\"24px\">\n",
              "    <path d=\"M0 0h24v24H0V0z\" fill=\"none\"/>\n",
              "    <path d=\"M18.56 5.44l.94 2.06.94-2.06 2.06-.94-2.06-.94-.94-2.06-.94 2.06-2.06.94zm-11 1L8.5 8.5l.94-2.06 2.06-.94-2.06-.94L8.5 2.5l-.94 2.06-2.06.94zm10 10l.94 2.06.94-2.06 2.06-.94-2.06-.94-.94-2.06-.94 2.06-2.06.94z\"/><path d=\"M17.41 7.96l-1.37-1.37c-.4-.4-.92-.59-1.43-.59-.52 0-1.04.2-1.43.59L10.3 9.45l-7.72 7.72c-.78.78-.78 2.05 0 2.83L4 21.41c.39.39.9.59 1.41.59.51 0 1.02-.2 1.41-.59l7.78-7.78 2.81-2.81c.8-.78.8-2.07 0-2.86zM5.41 20L4 18.59l7.72-7.72 1.47 1.35L5.41 20z\"/>\n",
              "  </svg>\n",
              "      </button>\n",
              "      \n",
              "  <style>\n",
              "    .colab-df-container {\n",
              "      display:flex;\n",
              "      flex-wrap:wrap;\n",
              "      gap: 12px;\n",
              "    }\n",
              "\n",
              "    .colab-df-convert {\n",
              "      background-color: #E8F0FE;\n",
              "      border: none;\n",
              "      border-radius: 50%;\n",
              "      cursor: pointer;\n",
              "      display: none;\n",
              "      fill: #1967D2;\n",
              "      height: 32px;\n",
              "      padding: 0 0 0 0;\n",
              "      width: 32px;\n",
              "    }\n",
              "\n",
              "    .colab-df-convert:hover {\n",
              "      background-color: #E2EBFA;\n",
              "      box-shadow: 0px 1px 2px rgba(60, 64, 67, 0.3), 0px 1px 3px 1px rgba(60, 64, 67, 0.15);\n",
              "      fill: #174EA6;\n",
              "    }\n",
              "\n",
              "    [theme=dark] .colab-df-convert {\n",
              "      background-color: #3B4455;\n",
              "      fill: #D2E3FC;\n",
              "    }\n",
              "\n",
              "    [theme=dark] .colab-df-convert:hover {\n",
              "      background-color: #434B5C;\n",
              "      box-shadow: 0px 1px 3px 1px rgba(0, 0, 0, 0.15);\n",
              "      filter: drop-shadow(0px 1px 2px rgba(0, 0, 0, 0.3));\n",
              "      fill: #FFFFFF;\n",
              "    }\n",
              "  </style>\n",
              "\n",
              "      <script>\n",
              "        const buttonEl =\n",
              "          document.querySelector('#df-acc9a73a-5e7a-4054-a3e7-c24c955b2f91 button.colab-df-convert');\n",
              "        buttonEl.style.display =\n",
              "          google.colab.kernel.accessAllowed ? 'block' : 'none';\n",
              "\n",
              "        async function convertToInteractive(key) {\n",
              "          const element = document.querySelector('#df-acc9a73a-5e7a-4054-a3e7-c24c955b2f91');\n",
              "          const dataTable =\n",
              "            await google.colab.kernel.invokeFunction('convertToInteractive',\n",
              "                                                     [key], {});\n",
              "          if (!dataTable) return;\n",
              "\n",
              "          const docLinkHtml = 'Like what you see? Visit the ' +\n",
              "            '<a target=\"_blank\" href=https://colab.research.google.com/notebooks/data_table.ipynb>data table notebook</a>'\n",
              "            + ' to learn more about interactive tables.';\n",
              "          element.innerHTML = '';\n",
              "          dataTable['output_type'] = 'display_data';\n",
              "          await google.colab.output.renderOutput(dataTable, element);\n",
              "          const docLink = document.createElement('div');\n",
              "          docLink.innerHTML = docLinkHtml;\n",
              "          element.appendChild(docLink);\n",
              "        }\n",
              "      </script>\n",
              "    </div>\n",
              "  </div>\n",
              "  "
            ]
          },
          "metadata": {},
          "execution_count": 27
        }
      ]
    },
    {
      "cell_type": "markdown",
      "metadata": {
        "id": "FwIhsEsrf3Mc"
      },
      "source": [
        "## 1.2 Distribuciones y estadísticas"
      ]
    },
    {
      "cell_type": "markdown",
      "metadata": {
        "id": "X4qg_BHD_b7f"
      },
      "source": [
        "*   ¿Cuál es el promedio de población para el conjunto de países analizados?"
      ]
    },
    {
      "cell_type": "code",
      "metadata": {
        "id": "z1hIToCr_ltF",
        "colab": {
          "base_uri": "https://localhost:8080/"
        },
        "outputId": "9aff12ea-007c-44fc-b9d0-7016b8edf9ec"
      },
      "source": [
        "countries['Population'].mean()"
      ],
      "execution_count": null,
      "outputs": [
        {
          "output_type": "execute_result",
          "data": {
            "text/plain": [
              "26201506.25"
            ]
          },
          "metadata": {},
          "execution_count": 30
        }
      ]
    },
    {
      "cell_type": "markdown",
      "metadata": {
        "id": "ZHdnJWFw_md5"
      },
      "source": [
        "*   ¿Qué superficie territorial tiene el país más pequeño? ¿Y el más grande?"
      ]
    },
    {
      "cell_type": "code",
      "metadata": {
        "id": "jkf0m4Q-_v-h",
        "colab": {
          "base_uri": "https://localhost:8080/",
          "height": 81
        },
        "outputId": "78a4f8b9-b268-4262-e6c3-856edca1ac93"
      },
      "source": [
        "countries['SurfaceArea'].min()\n",
        "countries['SurfaceArea'].max()\n",
        "countries[countries['SurfaceArea'] == countries['SurfaceArea'].min()]\n",
        "countries[countries['SurfaceArea'] == countries['SurfaceArea'].max()]"
      ],
      "execution_count": null,
      "outputs": [
        {
          "output_type": "execute_result",
          "data": {
            "text/plain": [
              "    Code                Name Continent          Region  SurfaceArea  \\\n",
              "181  RUS  Russian Federation    Europe  Eastern Europe   17075400.0   \n",
              "\n",
              "     IndepYear  Population  LifeExpectancy       GNP    GNPOld LocalName  \\\n",
              "181     1991.0   146934000            67.2  276608.0  442989.0   Rossija   \n",
              "\n",
              "       GovernmentForm  Capital  \n",
              "181  Federal Republic   3580.0  "
            ],
            "text/html": [
              "\n",
              "  <div id=\"df-9ea336be-c149-4768-8065-199ff34a90ff\">\n",
              "    <div class=\"colab-df-container\">\n",
              "      <div>\n",
              "<style scoped>\n",
              "    .dataframe tbody tr th:only-of-type {\n",
              "        vertical-align: middle;\n",
              "    }\n",
              "\n",
              "    .dataframe tbody tr th {\n",
              "        vertical-align: top;\n",
              "    }\n",
              "\n",
              "    .dataframe thead th {\n",
              "        text-align: right;\n",
              "    }\n",
              "</style>\n",
              "<table border=\"1\" class=\"dataframe\">\n",
              "  <thead>\n",
              "    <tr style=\"text-align: right;\">\n",
              "      <th></th>\n",
              "      <th>Code</th>\n",
              "      <th>Name</th>\n",
              "      <th>Continent</th>\n",
              "      <th>Region</th>\n",
              "      <th>SurfaceArea</th>\n",
              "      <th>IndepYear</th>\n",
              "      <th>Population</th>\n",
              "      <th>LifeExpectancy</th>\n",
              "      <th>GNP</th>\n",
              "      <th>GNPOld</th>\n",
              "      <th>LocalName</th>\n",
              "      <th>GovernmentForm</th>\n",
              "      <th>Capital</th>\n",
              "    </tr>\n",
              "  </thead>\n",
              "  <tbody>\n",
              "    <tr>\n",
              "      <th>181</th>\n",
              "      <td>RUS</td>\n",
              "      <td>Russian Federation</td>\n",
              "      <td>Europe</td>\n",
              "      <td>Eastern Europe</td>\n",
              "      <td>17075400.0</td>\n",
              "      <td>1991.0</td>\n",
              "      <td>146934000</td>\n",
              "      <td>67.2</td>\n",
              "      <td>276608.0</td>\n",
              "      <td>442989.0</td>\n",
              "      <td>Rossija</td>\n",
              "      <td>Federal Republic</td>\n",
              "      <td>3580.0</td>\n",
              "    </tr>\n",
              "  </tbody>\n",
              "</table>\n",
              "</div>\n",
              "      <button class=\"colab-df-convert\" onclick=\"convertToInteractive('df-9ea336be-c149-4768-8065-199ff34a90ff')\"\n",
              "              title=\"Convert this dataframe to an interactive table.\"\n",
              "              style=\"display:none;\">\n",
              "        \n",
              "  <svg xmlns=\"http://www.w3.org/2000/svg\" height=\"24px\"viewBox=\"0 0 24 24\"\n",
              "       width=\"24px\">\n",
              "    <path d=\"M0 0h24v24H0V0z\" fill=\"none\"/>\n",
              "    <path d=\"M18.56 5.44l.94 2.06.94-2.06 2.06-.94-2.06-.94-.94-2.06-.94 2.06-2.06.94zm-11 1L8.5 8.5l.94-2.06 2.06-.94-2.06-.94L8.5 2.5l-.94 2.06-2.06.94zm10 10l.94 2.06.94-2.06 2.06-.94-2.06-.94-.94-2.06-.94 2.06-2.06.94z\"/><path d=\"M17.41 7.96l-1.37-1.37c-.4-.4-.92-.59-1.43-.59-.52 0-1.04.2-1.43.59L10.3 9.45l-7.72 7.72c-.78.78-.78 2.05 0 2.83L4 21.41c.39.39.9.59 1.41.59.51 0 1.02-.2 1.41-.59l7.78-7.78 2.81-2.81c.8-.78.8-2.07 0-2.86zM5.41 20L4 18.59l7.72-7.72 1.47 1.35L5.41 20z\"/>\n",
              "  </svg>\n",
              "      </button>\n",
              "      \n",
              "  <style>\n",
              "    .colab-df-container {\n",
              "      display:flex;\n",
              "      flex-wrap:wrap;\n",
              "      gap: 12px;\n",
              "    }\n",
              "\n",
              "    .colab-df-convert {\n",
              "      background-color: #E8F0FE;\n",
              "      border: none;\n",
              "      border-radius: 50%;\n",
              "      cursor: pointer;\n",
              "      display: none;\n",
              "      fill: #1967D2;\n",
              "      height: 32px;\n",
              "      padding: 0 0 0 0;\n",
              "      width: 32px;\n",
              "    }\n",
              "\n",
              "    .colab-df-convert:hover {\n",
              "      background-color: #E2EBFA;\n",
              "      box-shadow: 0px 1px 2px rgba(60, 64, 67, 0.3), 0px 1px 3px 1px rgba(60, 64, 67, 0.15);\n",
              "      fill: #174EA6;\n",
              "    }\n",
              "\n",
              "    [theme=dark] .colab-df-convert {\n",
              "      background-color: #3B4455;\n",
              "      fill: #D2E3FC;\n",
              "    }\n",
              "\n",
              "    [theme=dark] .colab-df-convert:hover {\n",
              "      background-color: #434B5C;\n",
              "      box-shadow: 0px 1px 3px 1px rgba(0, 0, 0, 0.15);\n",
              "      filter: drop-shadow(0px 1px 2px rgba(0, 0, 0, 0.3));\n",
              "      fill: #FFFFFF;\n",
              "    }\n",
              "  </style>\n",
              "\n",
              "      <script>\n",
              "        const buttonEl =\n",
              "          document.querySelector('#df-9ea336be-c149-4768-8065-199ff34a90ff button.colab-df-convert');\n",
              "        buttonEl.style.display =\n",
              "          google.colab.kernel.accessAllowed ? 'block' : 'none';\n",
              "\n",
              "        async function convertToInteractive(key) {\n",
              "          const element = document.querySelector('#df-9ea336be-c149-4768-8065-199ff34a90ff');\n",
              "          const dataTable =\n",
              "            await google.colab.kernel.invokeFunction('convertToInteractive',\n",
              "                                                     [key], {});\n",
              "          if (!dataTable) return;\n",
              "\n",
              "          const docLinkHtml = 'Like what you see? Visit the ' +\n",
              "            '<a target=\"_blank\" href=https://colab.research.google.com/notebooks/data_table.ipynb>data table notebook</a>'\n",
              "            + ' to learn more about interactive tables.';\n",
              "          element.innerHTML = '';\n",
              "          dataTable['output_type'] = 'display_data';\n",
              "          await google.colab.output.renderOutput(dataTable, element);\n",
              "          const docLink = document.createElement('div');\n",
              "          docLink.innerHTML = docLinkHtml;\n",
              "          element.appendChild(docLink);\n",
              "        }\n",
              "      </script>\n",
              "    </div>\n",
              "  </div>\n",
              "  "
            ]
          },
          "metadata": {},
          "execution_count": 37
        }
      ]
    },
    {
      "cell_type": "markdown",
      "metadata": {
        "id": "9cL6CJ22_wcw"
      },
      "source": [
        "*   ¿Cuál es la desviación estándar de la expectativa de vida?"
      ]
    },
    {
      "cell_type": "code",
      "metadata": {
        "id": "OndmZPc4_6xT",
        "colab": {
          "base_uri": "https://localhost:8080/"
        },
        "outputId": "26af0ac3-7a3a-4156-fc8e-0dba37dcfe59"
      },
      "source": [
        "countries_cities['LifeExpectancy'].std()"
      ],
      "execution_count": null,
      "outputs": [
        {
          "output_type": "execute_result",
          "data": {
            "text/plain": [
              "11.51926710049872"
            ]
          },
          "metadata": {},
          "execution_count": 34
        }
      ]
    },
    {
      "cell_type": "markdown",
      "metadata": {
        "id": "lHbKcOjn_9po"
      },
      "source": [
        "*   ¿Qué significa que para el año de independencia está 1974 en el 3er cuartil (75%)?"
      ]
    },
    {
      "cell_type": "code",
      "metadata": {
        "id": "WZQ0VBkyAHBF",
        "colab": {
          "base_uri": "https://localhost:8080/"
        },
        "outputId": "78efe4cf-5003-49c2-f641-4b64dc811afe"
      },
      "source": [
        "countries['IndepYear'].quantile(.75)"
      ],
      "execution_count": null,
      "outputs": [
        {
          "output_type": "execute_result",
          "data": {
            "text/plain": [
              "1974.0"
            ]
          },
          "metadata": {},
          "execution_count": 35
        }
      ]
    },
    {
      "cell_type": "code",
      "source": [
        "pd.options.display.float_format='{:.2f}'.format #Visualizar en formato flotante con dos decimales\n",
        "countries.describe() #Todas las operaciones anteriores de una manera mas sencilla"
      ],
      "metadata": {
        "colab": {
          "base_uri": "https://localhost:8080/",
          "height": 300
        },
        "id": "dCbnrR52ATPK",
        "outputId": "dfdff717-7177-424b-dfa1-6c14a69db42c"
      },
      "execution_count": null,
      "outputs": [
        {
          "output_type": "execute_result",
          "data": {
            "text/plain": [
              "       SurfaceArea  IndepYear    Population  LifeExpectancy        GNP  \\\n",
              "count       232.00     192.00        232.00          222.00     232.00   \n",
              "mean     585448.76    1847.26   26201506.25           66.49  126529.78   \n",
              "std     1768330.08     420.83  110893101.65           11.52  647228.36   \n",
              "min           0.40   -1523.00         50.00           37.20       0.00   \n",
              "25%        2769.75    1906.75     303500.00           60.30     807.50   \n",
              "50%       81233.00    1960.00    4419500.00           70.15    5224.50   \n",
              "75%      414643.25    1974.00   15374250.00           75.50   34606.00   \n",
              "max    17075400.00    1994.00 1277558000.00           83.50 8510700.00   \n",
              "\n",
              "          GNPOld  Capital  \n",
              "count     178.00   232.00  \n",
              "mean   165534.31  2071.31  \n",
              "std    720468.91  1184.10  \n",
              "min       157.00     1.00  \n",
              "25%      2187.00   915.75  \n",
              "50%      8421.00  2449.50  \n",
              "75%     71145.50  3065.25  \n",
              "max   8110900.00  4074.00  "
            ],
            "text/html": [
              "\n",
              "  <div id=\"df-e200382f-c0ff-4df7-9864-405d9d373daf\">\n",
              "    <div class=\"colab-df-container\">\n",
              "      <div>\n",
              "<style scoped>\n",
              "    .dataframe tbody tr th:only-of-type {\n",
              "        vertical-align: middle;\n",
              "    }\n",
              "\n",
              "    .dataframe tbody tr th {\n",
              "        vertical-align: top;\n",
              "    }\n",
              "\n",
              "    .dataframe thead th {\n",
              "        text-align: right;\n",
              "    }\n",
              "</style>\n",
              "<table border=\"1\" class=\"dataframe\">\n",
              "  <thead>\n",
              "    <tr style=\"text-align: right;\">\n",
              "      <th></th>\n",
              "      <th>SurfaceArea</th>\n",
              "      <th>IndepYear</th>\n",
              "      <th>Population</th>\n",
              "      <th>LifeExpectancy</th>\n",
              "      <th>GNP</th>\n",
              "      <th>GNPOld</th>\n",
              "      <th>Capital</th>\n",
              "    </tr>\n",
              "  </thead>\n",
              "  <tbody>\n",
              "    <tr>\n",
              "      <th>count</th>\n",
              "      <td>232.00</td>\n",
              "      <td>192.00</td>\n",
              "      <td>232.00</td>\n",
              "      <td>222.00</td>\n",
              "      <td>232.00</td>\n",
              "      <td>178.00</td>\n",
              "      <td>232.00</td>\n",
              "    </tr>\n",
              "    <tr>\n",
              "      <th>mean</th>\n",
              "      <td>585448.76</td>\n",
              "      <td>1847.26</td>\n",
              "      <td>26201506.25</td>\n",
              "      <td>66.49</td>\n",
              "      <td>126529.78</td>\n",
              "      <td>165534.31</td>\n",
              "      <td>2071.31</td>\n",
              "    </tr>\n",
              "    <tr>\n",
              "      <th>std</th>\n",
              "      <td>1768330.08</td>\n",
              "      <td>420.83</td>\n",
              "      <td>110893101.65</td>\n",
              "      <td>11.52</td>\n",
              "      <td>647228.36</td>\n",
              "      <td>720468.91</td>\n",
              "      <td>1184.10</td>\n",
              "    </tr>\n",
              "    <tr>\n",
              "      <th>min</th>\n",
              "      <td>0.40</td>\n",
              "      <td>-1523.00</td>\n",
              "      <td>50.00</td>\n",
              "      <td>37.20</td>\n",
              "      <td>0.00</td>\n",
              "      <td>157.00</td>\n",
              "      <td>1.00</td>\n",
              "    </tr>\n",
              "    <tr>\n",
              "      <th>25%</th>\n",
              "      <td>2769.75</td>\n",
              "      <td>1906.75</td>\n",
              "      <td>303500.00</td>\n",
              "      <td>60.30</td>\n",
              "      <td>807.50</td>\n",
              "      <td>2187.00</td>\n",
              "      <td>915.75</td>\n",
              "    </tr>\n",
              "    <tr>\n",
              "      <th>50%</th>\n",
              "      <td>81233.00</td>\n",
              "      <td>1960.00</td>\n",
              "      <td>4419500.00</td>\n",
              "      <td>70.15</td>\n",
              "      <td>5224.50</td>\n",
              "      <td>8421.00</td>\n",
              "      <td>2449.50</td>\n",
              "    </tr>\n",
              "    <tr>\n",
              "      <th>75%</th>\n",
              "      <td>414643.25</td>\n",
              "      <td>1974.00</td>\n",
              "      <td>15374250.00</td>\n",
              "      <td>75.50</td>\n",
              "      <td>34606.00</td>\n",
              "      <td>71145.50</td>\n",
              "      <td>3065.25</td>\n",
              "    </tr>\n",
              "    <tr>\n",
              "      <th>max</th>\n",
              "      <td>17075400.00</td>\n",
              "      <td>1994.00</td>\n",
              "      <td>1277558000.00</td>\n",
              "      <td>83.50</td>\n",
              "      <td>8510700.00</td>\n",
              "      <td>8110900.00</td>\n",
              "      <td>4074.00</td>\n",
              "    </tr>\n",
              "  </tbody>\n",
              "</table>\n",
              "</div>\n",
              "      <button class=\"colab-df-convert\" onclick=\"convertToInteractive('df-e200382f-c0ff-4df7-9864-405d9d373daf')\"\n",
              "              title=\"Convert this dataframe to an interactive table.\"\n",
              "              style=\"display:none;\">\n",
              "        \n",
              "  <svg xmlns=\"http://www.w3.org/2000/svg\" height=\"24px\"viewBox=\"0 0 24 24\"\n",
              "       width=\"24px\">\n",
              "    <path d=\"M0 0h24v24H0V0z\" fill=\"none\"/>\n",
              "    <path d=\"M18.56 5.44l.94 2.06.94-2.06 2.06-.94-2.06-.94-.94-2.06-.94 2.06-2.06.94zm-11 1L8.5 8.5l.94-2.06 2.06-.94-2.06-.94L8.5 2.5l-.94 2.06-2.06.94zm10 10l.94 2.06.94-2.06 2.06-.94-2.06-.94-.94-2.06-.94 2.06-2.06.94z\"/><path d=\"M17.41 7.96l-1.37-1.37c-.4-.4-.92-.59-1.43-.59-.52 0-1.04.2-1.43.59L10.3 9.45l-7.72 7.72c-.78.78-.78 2.05 0 2.83L4 21.41c.39.39.9.59 1.41.59.51 0 1.02-.2 1.41-.59l7.78-7.78 2.81-2.81c.8-.78.8-2.07 0-2.86zM5.41 20L4 18.59l7.72-7.72 1.47 1.35L5.41 20z\"/>\n",
              "  </svg>\n",
              "      </button>\n",
              "      \n",
              "  <style>\n",
              "    .colab-df-container {\n",
              "      display:flex;\n",
              "      flex-wrap:wrap;\n",
              "      gap: 12px;\n",
              "    }\n",
              "\n",
              "    .colab-df-convert {\n",
              "      background-color: #E8F0FE;\n",
              "      border: none;\n",
              "      border-radius: 50%;\n",
              "      cursor: pointer;\n",
              "      display: none;\n",
              "      fill: #1967D2;\n",
              "      height: 32px;\n",
              "      padding: 0 0 0 0;\n",
              "      width: 32px;\n",
              "    }\n",
              "\n",
              "    .colab-df-convert:hover {\n",
              "      background-color: #E2EBFA;\n",
              "      box-shadow: 0px 1px 2px rgba(60, 64, 67, 0.3), 0px 1px 3px 1px rgba(60, 64, 67, 0.15);\n",
              "      fill: #174EA6;\n",
              "    }\n",
              "\n",
              "    [theme=dark] .colab-df-convert {\n",
              "      background-color: #3B4455;\n",
              "      fill: #D2E3FC;\n",
              "    }\n",
              "\n",
              "    [theme=dark] .colab-df-convert:hover {\n",
              "      background-color: #434B5C;\n",
              "      box-shadow: 0px 1px 3px 1px rgba(0, 0, 0, 0.15);\n",
              "      filter: drop-shadow(0px 1px 2px rgba(0, 0, 0, 0.3));\n",
              "      fill: #FFFFFF;\n",
              "    }\n",
              "  </style>\n",
              "\n",
              "      <script>\n",
              "        const buttonEl =\n",
              "          document.querySelector('#df-e200382f-c0ff-4df7-9864-405d9d373daf button.colab-df-convert');\n",
              "        buttonEl.style.display =\n",
              "          google.colab.kernel.accessAllowed ? 'block' : 'none';\n",
              "\n",
              "        async function convertToInteractive(key) {\n",
              "          const element = document.querySelector('#df-e200382f-c0ff-4df7-9864-405d9d373daf');\n",
              "          const dataTable =\n",
              "            await google.colab.kernel.invokeFunction('convertToInteractive',\n",
              "                                                     [key], {});\n",
              "          if (!dataTable) return;\n",
              "\n",
              "          const docLinkHtml = 'Like what you see? Visit the ' +\n",
              "            '<a target=\"_blank\" href=https://colab.research.google.com/notebooks/data_table.ipynb>data table notebook</a>'\n",
              "            + ' to learn more about interactive tables.';\n",
              "          element.innerHTML = '';\n",
              "          dataTable['output_type'] = 'display_data';\n",
              "          await google.colab.output.renderOutput(dataTable, element);\n",
              "          const docLink = document.createElement('div');\n",
              "          docLink.innerHTML = docLinkHtml;\n",
              "          element.appendChild(docLink);\n",
              "        }\n",
              "      </script>\n",
              "    </div>\n",
              "  </div>\n",
              "  "
            ]
          },
          "metadata": {},
          "execution_count": 39
        }
      ]
    },
    {
      "cell_type": "markdown",
      "metadata": {
        "id": "FG-ArPfXJCZ-"
      },
      "source": [
        "# **TEMA 2. Plataformas de visualización en Python**"
      ]
    },
    {
      "cell_type": "code",
      "metadata": {
        "id": "xh6Z2oqgJXSU"
      },
      "source": [
        "import pandas as pd\n",
        "import matplotlib.pyplot as plt\n",
        "import seaborn as sns"
      ],
      "execution_count": null,
      "outputs": []
    },
    {
      "cell_type": "markdown",
      "metadata": {
        "id": "bOR1-vzyoabs"
      },
      "source": [
        "## 2.1 Trazado básico y personalización de la estética"
      ]
    },
    {
      "cell_type": "markdown",
      "metadata": {
        "id": "IfpzJFMID_OA"
      },
      "source": [
        "*   Generar un nuevo dataframe (`sample`) con los 6 primeros registros de `countries` y dejando únicamente las columnas `Name` y `Population`"
      ]
    },
    {
      "cell_type": "code",
      "metadata": {
        "id": "wUIFTwWGEKMw",
        "colab": {
          "base_uri": "https://localhost:8080/",
          "height": 206
        },
        "outputId": "d1c853df-3959-42bc-b9b9-ffd8ebf98dd9"
      },
      "source": [
        "sample = countries.head()[['Name', 'Population']]\n",
        "sample"
      ],
      "execution_count": null,
      "outputs": [
        {
          "output_type": "execute_result",
          "data": {
            "text/plain": [
              "          Name  Population\n",
              "0        Aruba      103000\n",
              "1  Afghanistan    22720000\n",
              "2       Angola    12878000\n",
              "3     Anguilla        8000\n",
              "4      Albania     3401200"
            ],
            "text/html": [
              "\n",
              "  <div id=\"df-0c83f0e6-f8f3-48b6-816b-3a3060e7bb1b\">\n",
              "    <div class=\"colab-df-container\">\n",
              "      <div>\n",
              "<style scoped>\n",
              "    .dataframe tbody tr th:only-of-type {\n",
              "        vertical-align: middle;\n",
              "    }\n",
              "\n",
              "    .dataframe tbody tr th {\n",
              "        vertical-align: top;\n",
              "    }\n",
              "\n",
              "    .dataframe thead th {\n",
              "        text-align: right;\n",
              "    }\n",
              "</style>\n",
              "<table border=\"1\" class=\"dataframe\">\n",
              "  <thead>\n",
              "    <tr style=\"text-align: right;\">\n",
              "      <th></th>\n",
              "      <th>Name</th>\n",
              "      <th>Population</th>\n",
              "    </tr>\n",
              "  </thead>\n",
              "  <tbody>\n",
              "    <tr>\n",
              "      <th>0</th>\n",
              "      <td>Aruba</td>\n",
              "      <td>103000</td>\n",
              "    </tr>\n",
              "    <tr>\n",
              "      <th>1</th>\n",
              "      <td>Afghanistan</td>\n",
              "      <td>22720000</td>\n",
              "    </tr>\n",
              "    <tr>\n",
              "      <th>2</th>\n",
              "      <td>Angola</td>\n",
              "      <td>12878000</td>\n",
              "    </tr>\n",
              "    <tr>\n",
              "      <th>3</th>\n",
              "      <td>Anguilla</td>\n",
              "      <td>8000</td>\n",
              "    </tr>\n",
              "    <tr>\n",
              "      <th>4</th>\n",
              "      <td>Albania</td>\n",
              "      <td>3401200</td>\n",
              "    </tr>\n",
              "  </tbody>\n",
              "</table>\n",
              "</div>\n",
              "      <button class=\"colab-df-convert\" onclick=\"convertToInteractive('df-0c83f0e6-f8f3-48b6-816b-3a3060e7bb1b')\"\n",
              "              title=\"Convert this dataframe to an interactive table.\"\n",
              "              style=\"display:none;\">\n",
              "        \n",
              "  <svg xmlns=\"http://www.w3.org/2000/svg\" height=\"24px\"viewBox=\"0 0 24 24\"\n",
              "       width=\"24px\">\n",
              "    <path d=\"M0 0h24v24H0V0z\" fill=\"none\"/>\n",
              "    <path d=\"M18.56 5.44l.94 2.06.94-2.06 2.06-.94-2.06-.94-.94-2.06-.94 2.06-2.06.94zm-11 1L8.5 8.5l.94-2.06 2.06-.94-2.06-.94L8.5 2.5l-.94 2.06-2.06.94zm10 10l.94 2.06.94-2.06 2.06-.94-2.06-.94-.94-2.06-.94 2.06-2.06.94z\"/><path d=\"M17.41 7.96l-1.37-1.37c-.4-.4-.92-.59-1.43-.59-.52 0-1.04.2-1.43.59L10.3 9.45l-7.72 7.72c-.78.78-.78 2.05 0 2.83L4 21.41c.39.39.9.59 1.41.59.51 0 1.02-.2 1.41-.59l7.78-7.78 2.81-2.81c.8-.78.8-2.07 0-2.86zM5.41 20L4 18.59l7.72-7.72 1.47 1.35L5.41 20z\"/>\n",
              "  </svg>\n",
              "      </button>\n",
              "      \n",
              "  <style>\n",
              "    .colab-df-container {\n",
              "      display:flex;\n",
              "      flex-wrap:wrap;\n",
              "      gap: 12px;\n",
              "    }\n",
              "\n",
              "    .colab-df-convert {\n",
              "      background-color: #E8F0FE;\n",
              "      border: none;\n",
              "      border-radius: 50%;\n",
              "      cursor: pointer;\n",
              "      display: none;\n",
              "      fill: #1967D2;\n",
              "      height: 32px;\n",
              "      padding: 0 0 0 0;\n",
              "      width: 32px;\n",
              "    }\n",
              "\n",
              "    .colab-df-convert:hover {\n",
              "      background-color: #E2EBFA;\n",
              "      box-shadow: 0px 1px 2px rgba(60, 64, 67, 0.3), 0px 1px 3px 1px rgba(60, 64, 67, 0.15);\n",
              "      fill: #174EA6;\n",
              "    }\n",
              "\n",
              "    [theme=dark] .colab-df-convert {\n",
              "      background-color: #3B4455;\n",
              "      fill: #D2E3FC;\n",
              "    }\n",
              "\n",
              "    [theme=dark] .colab-df-convert:hover {\n",
              "      background-color: #434B5C;\n",
              "      box-shadow: 0px 1px 3px 1px rgba(0, 0, 0, 0.15);\n",
              "      filter: drop-shadow(0px 1px 2px rgba(0, 0, 0, 0.3));\n",
              "      fill: #FFFFFF;\n",
              "    }\n",
              "  </style>\n",
              "\n",
              "      <script>\n",
              "        const buttonEl =\n",
              "          document.querySelector('#df-0c83f0e6-f8f3-48b6-816b-3a3060e7bb1b button.colab-df-convert');\n",
              "        buttonEl.style.display =\n",
              "          google.colab.kernel.accessAllowed ? 'block' : 'none';\n",
              "\n",
              "        async function convertToInteractive(key) {\n",
              "          const element = document.querySelector('#df-0c83f0e6-f8f3-48b6-816b-3a3060e7bb1b');\n",
              "          const dataTable =\n",
              "            await google.colab.kernel.invokeFunction('convertToInteractive',\n",
              "                                                     [key], {});\n",
              "          if (!dataTable) return;\n",
              "\n",
              "          const docLinkHtml = 'Like what you see? Visit the ' +\n",
              "            '<a target=\"_blank\" href=https://colab.research.google.com/notebooks/data_table.ipynb>data table notebook</a>'\n",
              "            + ' to learn more about interactive tables.';\n",
              "          element.innerHTML = '';\n",
              "          dataTable['output_type'] = 'display_data';\n",
              "          await google.colab.output.renderOutput(dataTable, element);\n",
              "          const docLink = document.createElement('div');\n",
              "          docLink.innerHTML = docLinkHtml;\n",
              "          element.appendChild(docLink);\n",
              "        }\n",
              "      </script>\n",
              "    </div>\n",
              "  </div>\n",
              "  "
            ]
          },
          "metadata": {},
          "execution_count": 43
        }
      ]
    },
    {
      "cell_type": "markdown",
      "metadata": {
        "id": "8hqxHtduEO6K"
      },
      "source": [
        "*   Hacer que `Name` sea el índice"
      ]
    },
    {
      "cell_type": "code",
      "metadata": {
        "id": "OFOWsItfEV2c",
        "colab": {
          "base_uri": "https://localhost:8080/",
          "height": 238
        },
        "outputId": "71a5a422-ac0d-46a8-b21e-42ca8a460c02"
      },
      "source": [
        "sample.set_index('Name', inplace=True)\n",
        "sample"
      ],
      "execution_count": null,
      "outputs": [
        {
          "output_type": "execute_result",
          "data": {
            "text/plain": [
              "             Population\n",
              "Name                   \n",
              "Aruba            103000\n",
              "Afghanistan    22720000\n",
              "Angola         12878000\n",
              "Anguilla           8000\n",
              "Albania         3401200"
            ],
            "text/html": [
              "\n",
              "  <div id=\"df-05a5926f-804b-4dfa-8af1-b9e5676cd151\">\n",
              "    <div class=\"colab-df-container\">\n",
              "      <div>\n",
              "<style scoped>\n",
              "    .dataframe tbody tr th:only-of-type {\n",
              "        vertical-align: middle;\n",
              "    }\n",
              "\n",
              "    .dataframe tbody tr th {\n",
              "        vertical-align: top;\n",
              "    }\n",
              "\n",
              "    .dataframe thead th {\n",
              "        text-align: right;\n",
              "    }\n",
              "</style>\n",
              "<table border=\"1\" class=\"dataframe\">\n",
              "  <thead>\n",
              "    <tr style=\"text-align: right;\">\n",
              "      <th></th>\n",
              "      <th>Population</th>\n",
              "    </tr>\n",
              "    <tr>\n",
              "      <th>Name</th>\n",
              "      <th></th>\n",
              "    </tr>\n",
              "  </thead>\n",
              "  <tbody>\n",
              "    <tr>\n",
              "      <th>Aruba</th>\n",
              "      <td>103000</td>\n",
              "    </tr>\n",
              "    <tr>\n",
              "      <th>Afghanistan</th>\n",
              "      <td>22720000</td>\n",
              "    </tr>\n",
              "    <tr>\n",
              "      <th>Angola</th>\n",
              "      <td>12878000</td>\n",
              "    </tr>\n",
              "    <tr>\n",
              "      <th>Anguilla</th>\n",
              "      <td>8000</td>\n",
              "    </tr>\n",
              "    <tr>\n",
              "      <th>Albania</th>\n",
              "      <td>3401200</td>\n",
              "    </tr>\n",
              "  </tbody>\n",
              "</table>\n",
              "</div>\n",
              "      <button class=\"colab-df-convert\" onclick=\"convertToInteractive('df-05a5926f-804b-4dfa-8af1-b9e5676cd151')\"\n",
              "              title=\"Convert this dataframe to an interactive table.\"\n",
              "              style=\"display:none;\">\n",
              "        \n",
              "  <svg xmlns=\"http://www.w3.org/2000/svg\" height=\"24px\"viewBox=\"0 0 24 24\"\n",
              "       width=\"24px\">\n",
              "    <path d=\"M0 0h24v24H0V0z\" fill=\"none\"/>\n",
              "    <path d=\"M18.56 5.44l.94 2.06.94-2.06 2.06-.94-2.06-.94-.94-2.06-.94 2.06-2.06.94zm-11 1L8.5 8.5l.94-2.06 2.06-.94-2.06-.94L8.5 2.5l-.94 2.06-2.06.94zm10 10l.94 2.06.94-2.06 2.06-.94-2.06-.94-.94-2.06-.94 2.06-2.06.94z\"/><path d=\"M17.41 7.96l-1.37-1.37c-.4-.4-.92-.59-1.43-.59-.52 0-1.04.2-1.43.59L10.3 9.45l-7.72 7.72c-.78.78-.78 2.05 0 2.83L4 21.41c.39.39.9.59 1.41.59.51 0 1.02-.2 1.41-.59l7.78-7.78 2.81-2.81c.8-.78.8-2.07 0-2.86zM5.41 20L4 18.59l7.72-7.72 1.47 1.35L5.41 20z\"/>\n",
              "  </svg>\n",
              "      </button>\n",
              "      \n",
              "  <style>\n",
              "    .colab-df-container {\n",
              "      display:flex;\n",
              "      flex-wrap:wrap;\n",
              "      gap: 12px;\n",
              "    }\n",
              "\n",
              "    .colab-df-convert {\n",
              "      background-color: #E8F0FE;\n",
              "      border: none;\n",
              "      border-radius: 50%;\n",
              "      cursor: pointer;\n",
              "      display: none;\n",
              "      fill: #1967D2;\n",
              "      height: 32px;\n",
              "      padding: 0 0 0 0;\n",
              "      width: 32px;\n",
              "    }\n",
              "\n",
              "    .colab-df-convert:hover {\n",
              "      background-color: #E2EBFA;\n",
              "      box-shadow: 0px 1px 2px rgba(60, 64, 67, 0.3), 0px 1px 3px 1px rgba(60, 64, 67, 0.15);\n",
              "      fill: #174EA6;\n",
              "    }\n",
              "\n",
              "    [theme=dark] .colab-df-convert {\n",
              "      background-color: #3B4455;\n",
              "      fill: #D2E3FC;\n",
              "    }\n",
              "\n",
              "    [theme=dark] .colab-df-convert:hover {\n",
              "      background-color: #434B5C;\n",
              "      box-shadow: 0px 1px 3px 1px rgba(0, 0, 0, 0.15);\n",
              "      filter: drop-shadow(0px 1px 2px rgba(0, 0, 0, 0.3));\n",
              "      fill: #FFFFFF;\n",
              "    }\n",
              "  </style>\n",
              "\n",
              "      <script>\n",
              "        const buttonEl =\n",
              "          document.querySelector('#df-05a5926f-804b-4dfa-8af1-b9e5676cd151 button.colab-df-convert');\n",
              "        buttonEl.style.display =\n",
              "          google.colab.kernel.accessAllowed ? 'block' : 'none';\n",
              "\n",
              "        async function convertToInteractive(key) {\n",
              "          const element = document.querySelector('#df-05a5926f-804b-4dfa-8af1-b9e5676cd151');\n",
              "          const dataTable =\n",
              "            await google.colab.kernel.invokeFunction('convertToInteractive',\n",
              "                                                     [key], {});\n",
              "          if (!dataTable) return;\n",
              "\n",
              "          const docLinkHtml = 'Like what you see? Visit the ' +\n",
              "            '<a target=\"_blank\" href=https://colab.research.google.com/notebooks/data_table.ipynb>data table notebook</a>'\n",
              "            + ' to learn more about interactive tables.';\n",
              "          element.innerHTML = '';\n",
              "          dataTable['output_type'] = 'display_data';\n",
              "          await google.colab.output.renderOutput(dataTable, element);\n",
              "          const docLink = document.createElement('div');\n",
              "          docLink.innerHTML = docLinkHtml;\n",
              "          element.appendChild(docLink);\n",
              "        }\n",
              "      </script>\n",
              "    </div>\n",
              "  </div>\n",
              "  "
            ]
          },
          "metadata": {},
          "execution_count": 44
        }
      ]
    },
    {
      "cell_type": "markdown",
      "metadata": {
        "id": "OeZ3aYu7EZOQ"
      },
      "source": [
        "*   Visualizar `sample` usando las tres plataformas de trazado"
      ]
    },
    {
      "cell_type": "code",
      "metadata": {
        "id": "bhXrOjfbEY2Y",
        "colab": {
          "base_uri": "https://localhost:8080/",
          "height": 294
        },
        "outputId": "5b80bbe5-9455-4e85-bc0f-0b537e6c92d6"
      },
      "source": [
        "#Matplotlib\n",
        "#plt.plot(sample.index, sample.values) #Otra opcion de poner el valor del eje y\n",
        "plt.plot(sample.index, sample['Population'])"
      ],
      "execution_count": null,
      "outputs": [
        {
          "output_type": "execute_result",
          "data": {
            "text/plain": [
              "[<matplotlib.lines.Line2D at 0x7f24e4e0d090>]"
            ]
          },
          "metadata": {},
          "execution_count": 50
        },
        {
          "output_type": "display_data",
          "data": {
            "text/plain": [
              "<Figure size 432x288 with 1 Axes>"
            ],
            "image/png": "[encoded data removed]"
          },
          "metadata": {
            "needs_background": "light"
          }
        }
      ]
    },
    {
      "cell_type": "code",
      "source": [
        "#Pandas\n",
        "#sample.plot(title='Population by country') #Una forma de poner el titulo\n",
        "sample.plot()\n",
        "plt.title('Population by country', fontsize=16, color='blue')"
      ],
      "metadata": {
        "colab": {
          "base_uri": "https://localhost:8080/",
          "height": 315
        },
        "id": "I_sLwVb5F1Ux",
        "outputId": "5e6c9908-27d5-4826-9f83-0b2b9af3501c"
      },
      "execution_count": null,
      "outputs": [
        {
          "output_type": "execute_result",
          "data": {
            "text/plain": [
              "Text(0.5, 1.0, 'Population by country')"
            ]
          },
          "metadata": {},
          "execution_count": 68
        },
        {
          "output_type": "display_data",
          "data": {
            "text/plain": [
              "<Figure size 432x288 with 1 Axes>"
            ],
            "image/png": "[encoded data removed]"
          },
          "metadata": {
            "needs_background": "light"
          }
        }
      ]
    },
    {
      "cell_type": "code",
      "source": [
        "#Seaborn\n",
        "sns.lineplot(x=sample.index, y=sample['Population'])\n",
        "plt.title('Population by country')\n",
        "plt.xlabel('Country')\n",
        "plt.legend(['Population'])"
      ],
      "metadata": {
        "colab": {
          "base_uri": "https://localhost:8080/",
          "height": 313
        },
        "id": "LTkmSMdnF4gk",
        "outputId": "ebce1948-4c60-4777-8d38-43cab14f552e"
      },
      "execution_count": null,
      "outputs": [
        {
          "output_type": "execute_result",
          "data": {
            "text/plain": [
              "<matplotlib.legend.Legend at 0x7f24e487e9d0>"
            ]
          },
          "metadata": {},
          "execution_count": 56
        },
        {
          "output_type": "display_data",
          "data": {
            "text/plain": [
              "<Figure size 432x288 with 1 Axes>"
            ],
            "image/png": "[encoded data removed]"
          },
          "metadata": {
            "needs_background": "light"
          }
        }
      ]
    },
    {
      "cell_type": "markdown",
      "metadata": {
        "id": "p9cvHKvoEk-b"
      },
      "source": [
        "*   Cambiar las propiedades: `title`, `grid`, `legend`, `xlabel`, `ylabel`, `rot`, `fontsize`, `color`, `marker` y `linestyle` de la gráfica generada con Pandas"
      ]
    },
    {
      "cell_type": "code",
      "metadata": {
        "id": "48SfgUCGExpY",
        "colab": {
          "base_uri": "https://localhost:8080/",
          "height": 490
        },
        "outputId": "f4a3e03d-b307-43a7-fb9d-8ca8713163a3"
      },
      "source": [
        "sample.plot(title='Population by country', grid=True, legend=False, xlabel='Countries', ylabel='Population', rot=45, fontsize=16, figsize=(10,6), color='red', linestyle='--', marker='o')"
      ],
      "execution_count": null,
      "outputs": [
        {
          "output_type": "execute_result",
          "data": {
            "text/plain": [
              "<matplotlib.axes._subplots.AxesSubplot at 0x7f24e43934d0>"
            ]
          },
          "metadata": {},
          "execution_count": 67
        },
        {
          "output_type": "display_data",
          "data": {
            "text/plain": [
              "<Figure size 720x432 with 1 Axes>"
            ],
            "image/png": "[encoded data removed]"
          },
          "metadata": {
            "needs_background": "light"
          }
        }
      ]
    },
    {
      "cell_type": "markdown",
      "metadata": {
        "id": "4nZKwxVZFCJZ"
      },
      "source": [
        "*   Probar con otro dataframe (`sample2`) que almacene los 6 primeros registros de `countries`, pero con todas sus columnas"
      ]
    },
    {
      "cell_type": "code",
      "metadata": {
        "id": "XO8ef7RvFEkM",
        "colab": {
          "base_uri": "https://localhost:8080/",
          "height": 238
        },
        "outputId": "2214155a-574f-44f2-95c8-80366b3d366d"
      },
      "source": [
        "sample2 = countries.head(6)\n",
        "sample2"
      ],
      "execution_count": null,
      "outputs": [
        {
          "output_type": "execute_result",
          "data": {
            "text/plain": [
              "  Code         Name      Continent                     Region  SurfaceArea  \\\n",
              "0  ABW        Aruba  North America                  Caribbean       193.00   \n",
              "1  AFG  Afghanistan           Asia  Southern and Central Asia    652090.00   \n",
              "2  AGO       Angola         Africa             Central Africa   1246700.00   \n",
              "3  AIA     Anguilla  North America                  Caribbean        96.00   \n",
              "4  ALB      Albania         Europe            Southern Europe     28748.00   \n",
              "5  AND      Andorra         Europe            Southern Europe       468.00   \n",
              "\n",
              "   IndepYear  Population  LifeExpectancy     GNP  GNPOld  \\\n",
              "0        NaN      103000           78.40  828.00  793.00   \n",
              "1    1919.00    22720000           45.90 5976.00     NaN   \n",
              "2    1975.00    12878000           38.30 6648.00 7984.00   \n",
              "3        NaN        8000           76.10   63.20     NaN   \n",
              "4    1912.00     3401200           71.60 3205.00 2500.00   \n",
              "5    1278.00       78000           83.50 1630.00     NaN   \n",
              "\n",
              "               LocalName                                GovernmentForm  \\\n",
              "0                  Aruba  Nonmetropolitan Territory of The Netherlands   \n",
              "1  Afganistan/Afqanestan                               Islamic Emirate   \n",
              "2                 Angola                                      Republic   \n",
              "3               Anguilla                 Dependent Territory of the UK   \n",
              "4              Shqipëria                                      Republic   \n",
              "5                Andorra                  Parliamentary Coprincipality   \n",
              "\n",
              "   Capital  \n",
              "0   129.00  \n",
              "1     1.00  \n",
              "2    56.00  \n",
              "3    62.00  \n",
              "4    34.00  \n",
              "5    55.00  "
            ],
            "text/html": [
              "\n",
              "  <div id=\"df-2429b979-b5f3-4e17-a761-6dd761691d25\">\n",
              "    <div class=\"colab-df-container\">\n",
              "      <div>\n",
              "<style scoped>\n",
              "    .dataframe tbody tr th:only-of-type {\n",
              "        vertical-align: middle;\n",
              "    }\n",
              "\n",
              "    .dataframe tbody tr th {\n",
              "        vertical-align: top;\n",
              "    }\n",
              "\n",
              "    .dataframe thead th {\n",
              "        text-align: right;\n",
              "    }\n",
              "</style>\n",
              "<table border=\"1\" class=\"dataframe\">\n",
              "  <thead>\n",
              "    <tr style=\"text-align: right;\">\n",
              "      <th></th>\n",
              "      <th>Code</th>\n",
              "      <th>Name</th>\n",
              "      <th>Continent</th>\n",
              "      <th>Region</th>\n",
              "      <th>SurfaceArea</th>\n",
              "      <th>IndepYear</th>\n",
              "      <th>Population</th>\n",
              "      <th>LifeExpectancy</th>\n",
              "      <th>GNP</th>\n",
              "      <th>GNPOld</th>\n",
              "      <th>LocalName</th>\n",
              "      <th>GovernmentForm</th>\n",
              "      <th>Capital</th>\n",
              "    </tr>\n",
              "  </thead>\n",
              "  <tbody>\n",
              "    <tr>\n",
              "      <th>0</th>\n",
              "      <td>ABW</td>\n",
              "      <td>Aruba</td>\n",
              "      <td>North America</td>\n",
              "      <td>Caribbean</td>\n",
              "      <td>193.00</td>\n",
              "      <td>NaN</td>\n",
              "      <td>103000</td>\n",
              "      <td>78.40</td>\n",
              "      <td>828.00</td>\n",
              "      <td>793.00</td>\n",
              "      <td>Aruba</td>\n",
              "      <td>Nonmetropolitan Territory of The Netherlands</td>\n",
              "      <td>129.00</td>\n",
              "    </tr>\n",
              "    <tr>\n",
              "      <th>1</th>\n",
              "      <td>AFG</td>\n",
              "      <td>Afghanistan</td>\n",
              "      <td>Asia</td>\n",
              "      <td>Southern and Central Asia</td>\n",
              "      <td>652090.00</td>\n",
              "      <td>1919.00</td>\n",
              "      <td>22720000</td>\n",
              "      <td>45.90</td>\n",
              "      <td>5976.00</td>\n",
              "      <td>NaN</td>\n",
              "      <td>Afganistan/Afqanestan</td>\n",
              "      <td>Islamic Emirate</td>\n",
              "      <td>1.00</td>\n",
              "    </tr>\n",
              "    <tr>\n",
              "      <th>2</th>\n",
              "      <td>AGO</td>\n",
              "      <td>Angola</td>\n",
              "      <td>Africa</td>\n",
              "      <td>Central Africa</td>\n",
              "      <td>1246700.00</td>\n",
              "      <td>1975.00</td>\n",
              "      <td>12878000</td>\n",
              "      <td>38.30</td>\n",
              "      <td>6648.00</td>\n",
              "      <td>7984.00</td>\n",
              "      <td>Angola</td>\n",
              "      <td>Republic</td>\n",
              "      <td>56.00</td>\n",
              "    </tr>\n",
              "    <tr>\n",
              "      <th>3</th>\n",
              "      <td>AIA</td>\n",
              "      <td>Anguilla</td>\n",
              "      <td>North America</td>\n",
              "      <td>Caribbean</td>\n",
              "      <td>96.00</td>\n",
              "      <td>NaN</td>\n",
              "      <td>8000</td>\n",
              "      <td>76.10</td>\n",
              "      <td>63.20</td>\n",
              "      <td>NaN</td>\n",
              "      <td>Anguilla</td>\n",
              "      <td>Dependent Territory of the UK</td>\n",
              "      <td>62.00</td>\n",
              "    </tr>\n",
              "    <tr>\n",
              "      <th>4</th>\n",
              "      <td>ALB</td>\n",
              "      <td>Albania</td>\n",
              "      <td>Europe</td>\n",
              "      <td>Southern Europe</td>\n",
              "      <td>28748.00</td>\n",
              "      <td>1912.00</td>\n",
              "      <td>3401200</td>\n",
              "      <td>71.60</td>\n",
              "      <td>3205.00</td>\n",
              "      <td>2500.00</td>\n",
              "      <td>Shqipëria</td>\n",
              "      <td>Republic</td>\n",
              "      <td>34.00</td>\n",
              "    </tr>\n",
              "    <tr>\n",
              "      <th>5</th>\n",
              "      <td>AND</td>\n",
              "      <td>Andorra</td>\n",
              "      <td>Europe</td>\n",
              "      <td>Southern Europe</td>\n",
              "      <td>468.00</td>\n",
              "      <td>1278.00</td>\n",
              "      <td>78000</td>\n",
              "      <td>83.50</td>\n",
              "      <td>1630.00</td>\n",
              "      <td>NaN</td>\n",
              "      <td>Andorra</td>\n",
              "      <td>Parliamentary Coprincipality</td>\n",
              "      <td>55.00</td>\n",
              "    </tr>\n",
              "  </tbody>\n",
              "</table>\n",
              "</div>\n",
              "      <button class=\"colab-df-convert\" onclick=\"convertToInteractive('df-2429b979-b5f3-4e17-a761-6dd761691d25')\"\n",
              "              title=\"Convert this dataframe to an interactive table.\"\n",
              "              style=\"display:none;\">\n",
              "        \n",
              "  <svg xmlns=\"http://www.w3.org/2000/svg\" height=\"24px\"viewBox=\"0 0 24 24\"\n",
              "       width=\"24px\">\n",
              "    <path d=\"M0 0h24v24H0V0z\" fill=\"none\"/>\n",
              "    <path d=\"M18.56 5.44l.94 2.06.94-2.06 2.06-.94-2.06-.94-.94-2.06-.94 2.06-2.06.94zm-11 1L8.5 8.5l.94-2.06 2.06-.94-2.06-.94L8.5 2.5l-.94 2.06-2.06.94zm10 10l.94 2.06.94-2.06 2.06-.94-2.06-.94-.94-2.06-.94 2.06-2.06.94z\"/><path d=\"M17.41 7.96l-1.37-1.37c-.4-.4-.92-.59-1.43-.59-.52 0-1.04.2-1.43.59L10.3 9.45l-7.72 7.72c-.78.78-.78 2.05 0 2.83L4 21.41c.39.39.9.59 1.41.59.51 0 1.02-.2 1.41-.59l7.78-7.78 2.81-2.81c.8-.78.8-2.07 0-2.86zM5.41 20L4 18.59l7.72-7.72 1.47 1.35L5.41 20z\"/>\n",
              "  </svg>\n",
              "      </button>\n",
              "      \n",
              "  <style>\n",
              "    .colab-df-container {\n",
              "      display:flex;\n",
              "      flex-wrap:wrap;\n",
              "      gap: 12px;\n",
              "    }\n",
              "\n",
              "    .colab-df-convert {\n",
              "      background-color: #E8F0FE;\n",
              "      border: none;\n",
              "      border-radius: 50%;\n",
              "      cursor: pointer;\n",
              "      display: none;\n",
              "      fill: #1967D2;\n",
              "      height: 32px;\n",
              "      padding: 0 0 0 0;\n",
              "      width: 32px;\n",
              "    }\n",
              "\n",
              "    .colab-df-convert:hover {\n",
              "      background-color: #E2EBFA;\n",
              "      box-shadow: 0px 1px 2px rgba(60, 64, 67, 0.3), 0px 1px 3px 1px rgba(60, 64, 67, 0.15);\n",
              "      fill: #174EA6;\n",
              "    }\n",
              "\n",
              "    [theme=dark] .colab-df-convert {\n",
              "      background-color: #3B4455;\n",
              "      fill: #D2E3FC;\n",
              "    }\n",
              "\n",
              "    [theme=dark] .colab-df-convert:hover {\n",
              "      background-color: #434B5C;\n",
              "      box-shadow: 0px 1px 3px 1px rgba(0, 0, 0, 0.15);\n",
              "      filter: drop-shadow(0px 1px 2px rgba(0, 0, 0, 0.3));\n",
              "      fill: #FFFFFF;\n",
              "    }\n",
              "  </style>\n",
              "\n",
              "      <script>\n",
              "        const buttonEl =\n",
              "          document.querySelector('#df-2429b979-b5f3-4e17-a761-6dd761691d25 button.colab-df-convert');\n",
              "        buttonEl.style.display =\n",
              "          google.colab.kernel.accessAllowed ? 'block' : 'none';\n",
              "\n",
              "        async function convertToInteractive(key) {\n",
              "          const element = document.querySelector('#df-2429b979-b5f3-4e17-a761-6dd761691d25');\n",
              "          const dataTable =\n",
              "            await google.colab.kernel.invokeFunction('convertToInteractive',\n",
              "                                                     [key], {});\n",
              "          if (!dataTable) return;\n",
              "\n",
              "          const docLinkHtml = 'Like what you see? Visit the ' +\n",
              "            '<a target=\"_blank\" href=https://colab.research.google.com/notebooks/data_table.ipynb>data table notebook</a>'\n",
              "            + ' to learn more about interactive tables.';\n",
              "          element.innerHTML = '';\n",
              "          dataTable['output_type'] = 'display_data';\n",
              "          await google.colab.output.renderOutput(dataTable, element);\n",
              "          const docLink = document.createElement('div');\n",
              "          docLink.innerHTML = docLinkHtml;\n",
              "          element.appendChild(docLink);\n",
              "        }\n",
              "      </script>\n",
              "    </div>\n",
              "  </div>\n",
              "  "
            ]
          },
          "metadata": {},
          "execution_count": 69
        }
      ]
    },
    {
      "cell_type": "code",
      "source": [
        "#Matplotlib\n",
        "plt.plot(sample2['Name'], sample2['Population'])"
      ],
      "metadata": {
        "colab": {
          "base_uri": "https://localhost:8080/",
          "height": 294
        },
        "id": "Ev36k3HcLC6l",
        "outputId": "198fe922-e13e-4116-af5c-25144a954e93"
      },
      "execution_count": null,
      "outputs": [
        {
          "output_type": "execute_result",
          "data": {
            "text/plain": [
              "[<matplotlib.lines.Line2D at 0x7f24e4291e90>]"
            ]
          },
          "metadata": {},
          "execution_count": 71
        },
        {
          "output_type": "display_data",
          "data": {
            "text/plain": [
              "<Figure size 432x288 with 1 Axes>"
            ],
            "image/png": "[encoded data removed]"
          },
          "metadata": {
            "needs_background": "light"
          }
        }
      ]
    },
    {
      "cell_type": "code",
      "source": [
        "#Pandas\n",
        "sample2.plot(x='Name', y='Population')"
      ],
      "metadata": {
        "colab": {
          "base_uri": "https://localhost:8080/",
          "height": 308
        },
        "id": "jVxMPJWKLRhO",
        "outputId": "e394d5d9-777f-47a0-eab8-bddc2a7c3bc8"
      },
      "execution_count": null,
      "outputs": [
        {
          "output_type": "execute_result",
          "data": {
            "text/plain": [
              "<matplotlib.axes._subplots.AxesSubplot at 0x7f24e4208450>"
            ]
          },
          "metadata": {},
          "execution_count": 73
        },
        {
          "output_type": "display_data",
          "data": {
            "text/plain": [
              "<Figure size 432x288 with 1 Axes>"
            ],
            "image/png": "[encoded data removed]"
          },
          "metadata": {
            "needs_background": "light"
          }
        }
      ]
    },
    {
      "cell_type": "code",
      "source": [
        "#Seaborn\n",
        "sns.lineplot(x=sample2['Name'], y=sample['Population'])"
      ],
      "metadata": {
        "colab": {
          "base_uri": "https://localhost:8080/",
          "height": 297
        },
        "id": "pePIiP7PLbqz",
        "outputId": "259a0891-9d85-412f-af4e-f796a167d6c4"
      },
      "execution_count": null,
      "outputs": [
        {
          "output_type": "execute_result",
          "data": {
            "text/plain": [
              "<matplotlib.axes._subplots.AxesSubplot at 0x7f24e41f7350>"
            ]
          },
          "metadata": {},
          "execution_count": 74
        },
        {
          "output_type": "display_data",
          "data": {
            "text/plain": [
              "<Figure size 432x288 with 1 Axes>"
            ],
            "image/png": "[encoded data removed]"
          },
          "metadata": {
            "needs_background": "light"
          }
        }
      ]
    },
    {
      "cell_type": "markdown",
      "metadata": {
        "id": "MBNKdd4zFIHg"
      },
      "source": [
        "*   Cambiar el tipo de gráfico a barras horizontales usando el argumento `kind`"
      ]
    },
    {
      "cell_type": "code",
      "source": [
        "#Pendiente\n",
        "#Matplotlib\n",
        "plt.bar(sample2['Name'],sample2['Population'])"
      ],
      "metadata": {
        "colab": {
          "base_uri": "https://localhost:8080/",
          "height": 133
        },
        "id": "y1yODEX_L28f",
        "outputId": "1fa06539-675d-4d9e-8764-c352471d84b5"
      },
      "execution_count": null,
      "outputs": [
        {
          "output_type": "error",
          "ename": "SyntaxError",
          "evalue": "ignored",
          "traceback": [
            "\u001b[0;36m  File \u001b[0;32m\"<ipython-input-77-837fe44dafa9>\"\u001b[0;36m, line \u001b[0;32m3\u001b[0m\n\u001b[0;31m    plt.plot(kind='bar', sample2['Name'], sample2['Population'])\u001b[0m\n\u001b[0m                        ^\u001b[0m\n\u001b[0;31mSyntaxError\u001b[0m\u001b[0;31m:\u001b[0m positional argument follows keyword argument\n"
          ]
        }
      ]
    },
    {
      "cell_type": "code",
      "metadata": {
        "id": "quEJKTb7FKLK",
        "colab": {
          "base_uri": "https://localhost:8080/",
          "height": 358
        },
        "outputId": "c8dde7a6-eb6e-4903-ef1f-a2f853fd9a09"
      },
      "source": [
        "#Pandas\n",
        "sample2.plot(kind='bar', x='Name', y='Population')"
      ],
      "execution_count": null,
      "outputs": [
        {
          "output_type": "execute_result",
          "data": {
            "text/plain": [
              "<matplotlib.axes._subplots.AxesSubplot at 0x7f24e41ebe90>"
            ]
          },
          "metadata": {},
          "execution_count": 75
        },
        {
          "output_type": "display_data",
          "data": {
            "text/plain": [
              "<Figure size 432x288 with 1 Axes>"
            ],
            "image/png": "[encoded data removed]"
          },
          "metadata": {
            "needs_background": "light"
          }
        }
      ]
    },
    {
      "cell_type": "code",
      "source": [
        "#Seaborn\n",
        "sns.barplot(x=sample2['Name'], y=sample2['Population'])"
      ],
      "metadata": {
        "colab": {
          "base_uri": "https://localhost:8080/",
          "height": 308
        },
        "id": "Pzz0QNO4L_sy",
        "outputId": "c1ccaab3-853f-450d-d1f0-5393a0f1a9ee"
      },
      "execution_count": null,
      "outputs": [
        {
          "output_type": "execute_result",
          "data": {
            "text/plain": [
              "<matplotlib.axes._subplots.AxesSubplot at 0x7f24e41a4ed0>"
            ]
          },
          "metadata": {},
          "execution_count": 81
        },
        {
          "output_type": "display_data",
          "data": {
            "text/plain": [
              "<Figure size 432x288 with 1 Axes>"
            ],
            "image/png": "[encoded data removed]"
          },
          "metadata": {
            "needs_background": "light"
          }
        }
      ]
    },
    {
      "cell_type": "markdown",
      "metadata": {
        "id": "xzGEfsVdwQVb"
      },
      "source": [
        "## 2.2 Agrupamiento y filtrado"
      ]
    },
    {
      "cell_type": "markdown",
      "metadata": {
        "id": "O1eaFtUhGfsD"
      },
      "source": [
        "*   Generar un nuevo dataframe (`population_by_continent`) con el resultado de agrupar la columna `Population` con el total por continente"
      ]
    },
    {
      "cell_type": "code",
      "metadata": {
        "id": "0AQGnyYiGold",
        "colab": {
          "base_uri": "https://localhost:8080/",
          "height": 269
        },
        "outputId": "62fc7610-3e74-497b-b0f2-8f4aabd9dba2"
      },
      "source": [
        "population_by_continent = countries[['Continent', 'Population']].groupby(['Continent']).sum()\n",
        "population_by_continent"
      ],
      "execution_count": null,
      "outputs": [
        {
          "output_type": "execute_result",
          "data": {
            "text/plain": [
              "               Population\n",
              "Continent                \n",
              "Africa          784475000\n",
              "Asia           3705025700\n",
              "Europe          730074600\n",
              "North America   482993000\n",
              "Oceania          30401150\n",
              "South America   345780000"
            ],
            "text/html": [
              "\n",
              "  <div id=\"df-bdc3fef9-c5c7-4a0a-a0b6-34c4871206cc\">\n",
              "    <div class=\"colab-df-container\">\n",
              "      <div>\n",
              "<style scoped>\n",
              "    .dataframe tbody tr th:only-of-type {\n",
              "        vertical-align: middle;\n",
              "    }\n",
              "\n",
              "    .dataframe tbody tr th {\n",
              "        vertical-align: top;\n",
              "    }\n",
              "\n",
              "    .dataframe thead th {\n",
              "        text-align: right;\n",
              "    }\n",
              "</style>\n",
              "<table border=\"1\" class=\"dataframe\">\n",
              "  <thead>\n",
              "    <tr style=\"text-align: right;\">\n",
              "      <th></th>\n",
              "      <th>Population</th>\n",
              "    </tr>\n",
              "    <tr>\n",
              "      <th>Continent</th>\n",
              "      <th></th>\n",
              "    </tr>\n",
              "  </thead>\n",
              "  <tbody>\n",
              "    <tr>\n",
              "      <th>Africa</th>\n",
              "      <td>784475000</td>\n",
              "    </tr>\n",
              "    <tr>\n",
              "      <th>Asia</th>\n",
              "      <td>3705025700</td>\n",
              "    </tr>\n",
              "    <tr>\n",
              "      <th>Europe</th>\n",
              "      <td>730074600</td>\n",
              "    </tr>\n",
              "    <tr>\n",
              "      <th>North America</th>\n",
              "      <td>482993000</td>\n",
              "    </tr>\n",
              "    <tr>\n",
              "      <th>Oceania</th>\n",
              "      <td>30401150</td>\n",
              "    </tr>\n",
              "    <tr>\n",
              "      <th>South America</th>\n",
              "      <td>345780000</td>\n",
              "    </tr>\n",
              "  </tbody>\n",
              "</table>\n",
              "</div>\n",
              "      <button class=\"colab-df-convert\" onclick=\"convertToInteractive('df-bdc3fef9-c5c7-4a0a-a0b6-34c4871206cc')\"\n",
              "              title=\"Convert this dataframe to an interactive table.\"\n",
              "              style=\"display:none;\">\n",
              "        \n",
              "  <svg xmlns=\"http://www.w3.org/2000/svg\" height=\"24px\"viewBox=\"0 0 24 24\"\n",
              "       width=\"24px\">\n",
              "    <path d=\"M0 0h24v24H0V0z\" fill=\"none\"/>\n",
              "    <path d=\"M18.56 5.44l.94 2.06.94-2.06 2.06-.94-2.06-.94-.94-2.06-.94 2.06-2.06.94zm-11 1L8.5 8.5l.94-2.06 2.06-.94-2.06-.94L8.5 2.5l-.94 2.06-2.06.94zm10 10l.94 2.06.94-2.06 2.06-.94-2.06-.94-.94-2.06-.94 2.06-2.06.94z\"/><path d=\"M17.41 7.96l-1.37-1.37c-.4-.4-.92-.59-1.43-.59-.52 0-1.04.2-1.43.59L10.3 9.45l-7.72 7.72c-.78.78-.78 2.05 0 2.83L4 21.41c.39.39.9.59 1.41.59.51 0 1.02-.2 1.41-.59l7.78-7.78 2.81-2.81c.8-.78.8-2.07 0-2.86zM5.41 20L4 18.59l7.72-7.72 1.47 1.35L5.41 20z\"/>\n",
              "  </svg>\n",
              "      </button>\n",
              "      \n",
              "  <style>\n",
              "    .colab-df-container {\n",
              "      display:flex;\n",
              "      flex-wrap:wrap;\n",
              "      gap: 12px;\n",
              "    }\n",
              "\n",
              "    .colab-df-convert {\n",
              "      background-color: #E8F0FE;\n",
              "      border: none;\n",
              "      border-radius: 50%;\n",
              "      cursor: pointer;\n",
              "      display: none;\n",
              "      fill: #1967D2;\n",
              "      height: 32px;\n",
              "      padding: 0 0 0 0;\n",
              "      width: 32px;\n",
              "    }\n",
              "\n",
              "    .colab-df-convert:hover {\n",
              "      background-color: #E2EBFA;\n",
              "      box-shadow: 0px 1px 2px rgba(60, 64, 67, 0.3), 0px 1px 3px 1px rgba(60, 64, 67, 0.15);\n",
              "      fill: #174EA6;\n",
              "    }\n",
              "\n",
              "    [theme=dark] .colab-df-convert {\n",
              "      background-color: #3B4455;\n",
              "      fill: #D2E3FC;\n",
              "    }\n",
              "\n",
              "    [theme=dark] .colab-df-convert:hover {\n",
              "      background-color: #434B5C;\n",
              "      box-shadow: 0px 1px 3px 1px rgba(0, 0, 0, 0.15);\n",
              "      filter: drop-shadow(0px 1px 2px rgba(0, 0, 0, 0.3));\n",
              "      fill: #FFFFFF;\n",
              "    }\n",
              "  </style>\n",
              "\n",
              "      <script>\n",
              "        const buttonEl =\n",
              "          document.querySelector('#df-bdc3fef9-c5c7-4a0a-a0b6-34c4871206cc button.colab-df-convert');\n",
              "        buttonEl.style.display =\n",
              "          google.colab.kernel.accessAllowed ? 'block' : 'none';\n",
              "\n",
              "        async function convertToInteractive(key) {\n",
              "          const element = document.querySelector('#df-bdc3fef9-c5c7-4a0a-a0b6-34c4871206cc');\n",
              "          const dataTable =\n",
              "            await google.colab.kernel.invokeFunction('convertToInteractive',\n",
              "                                                     [key], {});\n",
              "          if (!dataTable) return;\n",
              "\n",
              "          const docLinkHtml = 'Like what you see? Visit the ' +\n",
              "            '<a target=\"_blank\" href=https://colab.research.google.com/notebooks/data_table.ipynb>data table notebook</a>'\n",
              "            + ' to learn more about interactive tables.';\n",
              "          element.innerHTML = '';\n",
              "          dataTable['output_type'] = 'display_data';\n",
              "          await google.colab.output.renderOutput(dataTable, element);\n",
              "          const docLink = document.createElement('div');\n",
              "          docLink.innerHTML = docLinkHtml;\n",
              "          element.appendChild(docLink);\n",
              "        }\n",
              "      </script>\n",
              "    </div>\n",
              "  </div>\n",
              "  "
            ]
          },
          "metadata": {},
          "execution_count": 83
        }
      ]
    },
    {
      "cell_type": "markdown",
      "metadata": {
        "id": "1rhWMGbCG4JY"
      },
      "source": [
        "*   Graficar los resultados usando un gráfico pie de Pandas"
      ]
    },
    {
      "cell_type": "code",
      "metadata": {
        "id": "EJDSmpDZG8Qf",
        "colab": {
          "base_uri": "https://localhost:8080/",
          "height": 266
        },
        "outputId": "6bb8c469-d17c-4761-f443-da6da28c385d"
      },
      "source": [
        "#Pandas\n",
        "population_by_continent.plot(kind='pie', y='Population', legend=False)"
      ],
      "execution_count": null,
      "outputs": [
        {
          "output_type": "execute_result",
          "data": {
            "text/plain": [
              "<matplotlib.axes._subplots.AxesSubplot at 0x7f24e3e57a50>"
            ]
          },
          "metadata": {},
          "execution_count": 85
        },
        {
          "output_type": "display_data",
          "data": {
            "text/plain": [
              "<Figure size 432x288 with 1 Axes>"
            ],
            "image/png": "[encoded data removed]"
          },
          "metadata": {}
        }
      ]
    },
    {
      "cell_type": "markdown",
      "metadata": {
        "id": "sZ8C_e3nHB9Y"
      },
      "source": [
        "*   Graficar el número de países por continente usando la función `countplot() `de Seaborn"
      ]
    },
    {
      "cell_type": "code",
      "metadata": {
        "id": "gW_s_z_zHGtG",
        "colab": {
          "base_uri": "https://localhost:8080/",
          "height": 297
        },
        "outputId": "f00f7591-62eb-4e15-c2b5-87599cfc961e"
      },
      "source": [
        "#Seaborn\n",
        "sns.countplot(x=countries['Continent']) #Cantidad de paises por categoria (Contienentes)"
      ],
      "execution_count": null,
      "outputs": [
        {
          "output_type": "execute_result",
          "data": {
            "text/plain": [
              "<matplotlib.axes._subplots.AxesSubplot at 0x7f24e3d47250>"
            ]
          },
          "metadata": {},
          "execution_count": 86
        },
        {
          "output_type": "display_data",
          "data": {
            "text/plain": [
              "<Figure size 432x288 with 1 Axes>"
            ],
            "image/png": "[encoded data removed]"
          },
          "metadata": {
            "needs_background": "light"
          }
        }
      ]
    },
    {
      "cell_type": "markdown",
      "metadata": {
        "id": "ogFCua_DHIpR"
      },
      "source": [
        "*   Cambiar la paleta de colores y el tema con Seaborn"
      ]
    },
    {
      "cell_type": "code",
      "metadata": {
        "id": "AFte53lXHOnV"
      },
      "source": [
        "sns.set_palette('Set2')\n",
        "sns.set_style('darkgrid')"
      ],
      "execution_count": null,
      "outputs": []
    },
    {
      "cell_type": "markdown",
      "metadata": {
        "id": "RxGrHlm4Jf9G"
      },
      "source": [
        "# **TEMA 3. Gráficas superpuestas**"
      ]
    },
    {
      "cell_type": "markdown",
      "metadata": {
        "id": "l3Ei3iAZxpQE"
      },
      "source": [
        "##3.1 Compartiendo ambos ejes"
      ]
    },
    {
      "cell_type": "markdown",
      "metadata": {
        "id": "Ue8witHWH0mF"
      },
      "source": [
        "*   Generar un nuevo dataframe (`gnp_by_continent`) con el resultado de agrupar las columnas `GNP` y `GNPOld` con el promedio por continente"
      ]
    },
    {
      "cell_type": "code",
      "metadata": {
        "id": "lWQfAQK7H90K",
        "colab": {
          "base_uri": "https://localhost:8080/",
          "height": 269
        },
        "outputId": "c93f5304-1df9-4142-edd0-c39d2d837fe6"
      },
      "source": [
        "gnp_by_continent = countries[['Continent', 'GNP', 'GNPOld']].groupby(['Continent']).mean()\n",
        "gnp_by_continent"
      ],
      "execution_count": null,
      "outputs": [
        {
          "output_type": "execute_result",
          "data": {
            "text/plain": [
              "                    GNP    GNPOld\n",
              "Continent                        \n",
              "Africa         10182.02  11065.28\n",
              "Asia          150105.73 183377.09\n",
              "Europe        206497.07 260611.14\n",
              "North America 261854.79 371527.00\n",
              "Oceania        15547.21  46905.80\n",
              "South America 107991.00 126720.08"
            ],
            "text/html": [
              "\n",
              "  <div id=\"df-7dc060bb-f1be-43cd-ba16-2ca65a2302ca\">\n",
              "    <div class=\"colab-df-container\">\n",
              "      <div>\n",
              "<style scoped>\n",
              "    .dataframe tbody tr th:only-of-type {\n",
              "        vertical-align: middle;\n",
              "    }\n",
              "\n",
              "    .dataframe tbody tr th {\n",
              "        vertical-align: top;\n",
              "    }\n",
              "\n",
              "    .dataframe thead th {\n",
              "        text-align: right;\n",
              "    }\n",
              "</style>\n",
              "<table border=\"1\" class=\"dataframe\">\n",
              "  <thead>\n",
              "    <tr style=\"text-align: right;\">\n",
              "      <th></th>\n",
              "      <th>GNP</th>\n",
              "      <th>GNPOld</th>\n",
              "    </tr>\n",
              "    <tr>\n",
              "      <th>Continent</th>\n",
              "      <th></th>\n",
              "      <th></th>\n",
              "    </tr>\n",
              "  </thead>\n",
              "  <tbody>\n",
              "    <tr>\n",
              "      <th>Africa</th>\n",
              "      <td>10182.02</td>\n",
              "      <td>11065.28</td>\n",
              "    </tr>\n",
              "    <tr>\n",
              "      <th>Asia</th>\n",
              "      <td>150105.73</td>\n",
              "      <td>183377.09</td>\n",
              "    </tr>\n",
              "    <tr>\n",
              "      <th>Europe</th>\n",
              "      <td>206497.07</td>\n",
              "      <td>260611.14</td>\n",
              "    </tr>\n",
              "    <tr>\n",
              "      <th>North America</th>\n",
              "      <td>261854.79</td>\n",
              "      <td>371527.00</td>\n",
              "    </tr>\n",
              "    <tr>\n",
              "      <th>Oceania</th>\n",
              "      <td>15547.21</td>\n",
              "      <td>46905.80</td>\n",
              "    </tr>\n",
              "    <tr>\n",
              "      <th>South America</th>\n",
              "      <td>107991.00</td>\n",
              "      <td>126720.08</td>\n",
              "    </tr>\n",
              "  </tbody>\n",
              "</table>\n",
              "</div>\n",
              "      <button class=\"colab-df-convert\" onclick=\"convertToInteractive('df-7dc060bb-f1be-43cd-ba16-2ca65a2302ca')\"\n",
              "              title=\"Convert this dataframe to an interactive table.\"\n",
              "              style=\"display:none;\">\n",
              "        \n",
              "  <svg xmlns=\"http://www.w3.org/2000/svg\" height=\"24px\"viewBox=\"0 0 24 24\"\n",
              "       width=\"24px\">\n",
              "    <path d=\"M0 0h24v24H0V0z\" fill=\"none\"/>\n",
              "    <path d=\"M18.56 5.44l.94 2.06.94-2.06 2.06-.94-2.06-.94-.94-2.06-.94 2.06-2.06.94zm-11 1L8.5 8.5l.94-2.06 2.06-.94-2.06-.94L8.5 2.5l-.94 2.06-2.06.94zm10 10l.94 2.06.94-2.06 2.06-.94-2.06-.94-.94-2.06-.94 2.06-2.06.94z\"/><path d=\"M17.41 7.96l-1.37-1.37c-.4-.4-.92-.59-1.43-.59-.52 0-1.04.2-1.43.59L10.3 9.45l-7.72 7.72c-.78.78-.78 2.05 0 2.83L4 21.41c.39.39.9.59 1.41.59.51 0 1.02-.2 1.41-.59l7.78-7.78 2.81-2.81c.8-.78.8-2.07 0-2.86zM5.41 20L4 18.59l7.72-7.72 1.47 1.35L5.41 20z\"/>\n",
              "  </svg>\n",
              "      </button>\n",
              "      \n",
              "  <style>\n",
              "    .colab-df-container {\n",
              "      display:flex;\n",
              "      flex-wrap:wrap;\n",
              "      gap: 12px;\n",
              "    }\n",
              "\n",
              "    .colab-df-convert {\n",
              "      background-color: #E8F0FE;\n",
              "      border: none;\n",
              "      border-radius: 50%;\n",
              "      cursor: pointer;\n",
              "      display: none;\n",
              "      fill: #1967D2;\n",
              "      height: 32px;\n",
              "      padding: 0 0 0 0;\n",
              "      width: 32px;\n",
              "    }\n",
              "\n",
              "    .colab-df-convert:hover {\n",
              "      background-color: #E2EBFA;\n",
              "      box-shadow: 0px 1px 2px rgba(60, 64, 67, 0.3), 0px 1px 3px 1px rgba(60, 64, 67, 0.15);\n",
              "      fill: #174EA6;\n",
              "    }\n",
              "\n",
              "    [theme=dark] .colab-df-convert {\n",
              "      background-color: #3B4455;\n",
              "      fill: #D2E3FC;\n",
              "    }\n",
              "\n",
              "    [theme=dark] .colab-df-convert:hover {\n",
              "      background-color: #434B5C;\n",
              "      box-shadow: 0px 1px 3px 1px rgba(0, 0, 0, 0.15);\n",
              "      filter: drop-shadow(0px 1px 2px rgba(0, 0, 0, 0.3));\n",
              "      fill: #FFFFFF;\n",
              "    }\n",
              "  </style>\n",
              "\n",
              "      <script>\n",
              "        const buttonEl =\n",
              "          document.querySelector('#df-7dc060bb-f1be-43cd-ba16-2ca65a2302ca button.colab-df-convert');\n",
              "        buttonEl.style.display =\n",
              "          google.colab.kernel.accessAllowed ? 'block' : 'none';\n",
              "\n",
              "        async function convertToInteractive(key) {\n",
              "          const element = document.querySelector('#df-7dc060bb-f1be-43cd-ba16-2ca65a2302ca');\n",
              "          const dataTable =\n",
              "            await google.colab.kernel.invokeFunction('convertToInteractive',\n",
              "                                                     [key], {});\n",
              "          if (!dataTable) return;\n",
              "\n",
              "          const docLinkHtml = 'Like what you see? Visit the ' +\n",
              "            '<a target=\"_blank\" href=https://colab.research.google.com/notebooks/data_table.ipynb>data table notebook</a>'\n",
              "            + ' to learn more about interactive tables.';\n",
              "          element.innerHTML = '';\n",
              "          dataTable['output_type'] = 'display_data';\n",
              "          await google.colab.output.renderOutput(dataTable, element);\n",
              "          const docLink = document.createElement('div');\n",
              "          docLink.innerHTML = docLinkHtml;\n",
              "          element.appendChild(docLink);\n",
              "        }\n",
              "      </script>\n",
              "    </div>\n",
              "  </div>\n",
              "  "
            ]
          },
          "metadata": {},
          "execution_count": 91
        }
      ]
    },
    {
      "cell_type": "markdown",
      "metadata": {
        "id": "KxQFrd7oH_1O"
      },
      "source": [
        "*   Graficar los resultados usando las tres plataformas de trazado"
      ]
    },
    {
      "cell_type": "code",
      "metadata": {
        "id": "jvfXOmQtIFGx",
        "colab": {
          "base_uri": "https://localhost:8080/",
          "height": 283
        },
        "outputId": "b92d0840-0f52-44e4-c0af-9493fbe488c4"
      },
      "source": [
        "#Matplotlib\n",
        "plt.plot(gnp_by_continent)\n",
        "plt.legend(gnp_by_continent.columns)"
      ],
      "execution_count": null,
      "outputs": [
        {
          "output_type": "execute_result",
          "data": {
            "text/plain": [
              "<matplotlib.legend.Legend at 0x7f24e3d59390>"
            ]
          },
          "metadata": {},
          "execution_count": 93
        },
        {
          "output_type": "display_data",
          "data": {
            "text/plain": [
              "<Figure size 432x288 with 1 Axes>"
            ],
            "image/png": "[encoded data removed]"
          },
          "metadata": {}
        }
      ]
    },
    {
      "cell_type": "code",
      "source": [
        "#Pandas\n",
        "gnp_by_continent.plot()"
      ],
      "metadata": {
        "colab": {
          "base_uri": "https://localhost:8080/",
          "height": 297
        },
        "id": "ahZ0vvA6PT1z",
        "outputId": "7f3dcee4-e311-41f9-de8b-59fcd3ec18d3"
      },
      "execution_count": null,
      "outputs": [
        {
          "output_type": "execute_result",
          "data": {
            "text/plain": [
              "<matplotlib.axes._subplots.AxesSubplot at 0x7f24e3c7c890>"
            ]
          },
          "metadata": {},
          "execution_count": 94
        },
        {
          "output_type": "display_data",
          "data": {
            "text/plain": [
              "<Figure size 432x288 with 1 Axes>"
            ],
            "image/png": "[encoded data removed]"
          },
          "metadata": {}
        }
      ]
    },
    {
      "cell_type": "code",
      "source": [
        "#Seaborn\n",
        "sns.lineplot(data=gnp_by_continent)\n",
        "plt.xticks(rotation=90)"
      ],
      "metadata": {
        "colab": {
          "base_uri": "https://localhost:8080/",
          "height": 361
        },
        "id": "zAfkRu_ePYfI",
        "outputId": "b91b0336-ffe1-4c43-ed18-2bafc866331c"
      },
      "execution_count": null,
      "outputs": [
        {
          "output_type": "execute_result",
          "data": {
            "text/plain": [
              "([0, 1, 2, 3, 4, 5], <a list of 6 Text major ticklabel objects>)"
            ]
          },
          "metadata": {},
          "execution_count": 96
        },
        {
          "output_type": "display_data",
          "data": {
            "text/plain": [
              "<Figure size 432x288 with 1 Axes>"
            ],
            "image/png": "[encoded data removed]"
          },
          "metadata": {}
        }
      ]
    },
    {
      "cell_type": "markdown",
      "metadata": {
        "id": "FKghtwcHz7Mw"
      },
      "source": [
        "## 3.2 Compartiendo el eje horizontal con ejes verticales independientes"
      ]
    },
    {
      "cell_type": "markdown",
      "metadata": {
        "id": "bF7aVQg2IRq5"
      },
      "source": [
        "*   Generar un nuevo dataframe (`summary_by_continent`) con el resultado de agrupar las columnas `LifeExpectancy` y `GNP` con el promedio por continente"
      ]
    },
    {
      "cell_type": "code",
      "metadata": {
        "id": "0uvpbeUUIZPd",
        "colab": {
          "base_uri": "https://localhost:8080/",
          "height": 297
        },
        "outputId": "1af1b71f-fbf0-4822-fea4-ea2a07402833"
      },
      "source": [
        "summary_by_continent = countries[['Continent', 'LifeExpectancy', 'GNP']].groupby(['Continent']).mean()\n",
        "summary_by_continent.plot()\n",
        "#Aqui se come la grafica de GNP porque los valores son mucho mas pequeños"
      ],
      "execution_count": null,
      "outputs": [
        {
          "output_type": "execute_result",
          "data": {
            "text/plain": [
              "<matplotlib.axes._subplots.AxesSubplot at 0x7f24e3a65410>"
            ]
          },
          "metadata": {},
          "execution_count": 99
        },
        {
          "output_type": "display_data",
          "data": {
            "text/plain": [
              "<Figure size 432x288 with 1 Axes>"
            ],
            "image/png": "[encoded data removed]"
          },
          "metadata": {}
        }
      ]
    },
    {
      "cell_type": "markdown",
      "metadata": {
        "id": "zcsyoR8lIbdc"
      },
      "source": [
        "*   Crear un eje vertical dual o secundario"
      ]
    },
    {
      "cell_type": "markdown",
      "metadata": {
        "id": "436FDnqPInMd"
      },
      "source": [
        "*   Graficar `LifeExpectancy` en el eje vertical izquierdo con color azul"
      ]
    },
    {
      "cell_type": "markdown",
      "metadata": {
        "id": "6cYvzUUYIuUs"
      },
      "source": [
        "*   Graficar `GNP` en el eje vertical derecho con color verde"
      ]
    },
    {
      "cell_type": "code",
      "metadata": {
        "id": "cZ18ItB7I0bS",
        "colab": {
          "base_uri": "https://localhost:8080/",
          "height": 283
        },
        "outputId": "a7e3696d-2ada-4983-ee30-d2e879f01ab1"
      },
      "source": [
        "sns.set_style('white')\n",
        "fig,ax1=plt.subplots() #Devuelve fig(contenedor de la figura), ax1(Objeto o matriz de graficos), el segundo depende de los parametros que le damos a la subplot (sino es un objeto de graficos)\n",
        "ax1.plot(summary_by_continent.index, summary_by_continent['LifeExpectancy'], color='blue')\n",
        "ax1.set_ylabel('LifeExpectancy', color='blue')\n",
        "ax2 = ax1.twinx()\n",
        "ax2.plot(summary_by_continent.index, summary_by_continent['GNP'], color='green')\n",
        "ax2.set_ylabel('GNP', color='green')"
      ],
      "execution_count": null,
      "outputs": [
        {
          "output_type": "execute_result",
          "data": {
            "text/plain": [
              "Text(0, 0.5, 'GNP')"
            ]
          },
          "metadata": {},
          "execution_count": 109
        },
        {
          "output_type": "display_data",
          "data": {
            "text/plain": [
              "<Figure size 432x288 with 2 Axes>"
            ],
            "image/png": "[encoded data removed]"
          },
          "metadata": {}
        }
      ]
    },
    {
      "cell_type": "code",
      "source": [
        "sns.set_style('white')\n",
        "fig,ax1=plt.subplots() #Devuelve fig(contenedor de la figura), ax1(Objeto o matriz de graficos), el segundo depende de los parametros que le damos a la subplot (sino es un objeto de graficos)\n",
        "#ax1.plot(summary_by_continent.index, summary_by_continent['LifeExpectancy'], color='blue')\n",
        "summary_by_continent['LifeExpectancy'].plot(color='blue', ax=ax1) #Con Pandas\n",
        "ax1.set_ylabel('LifeExpectancy', color='blue')\n",
        "ax2 = ax1.twinx()\n",
        "ax2.plot(summary_by_continent.index, summary_by_continent['GNP'], color='green')\n",
        "ax2.set_ylabel('GNP', color='green')"
      ],
      "metadata": {
        "colab": {
          "base_uri": "https://localhost:8080/",
          "height": 297
        },
        "id": "DcWZCOiOTKzF",
        "outputId": "d0bdae38-a2e4-44b7-cc72-4704f94c3be7"
      },
      "execution_count": null,
      "outputs": [
        {
          "output_type": "execute_result",
          "data": {
            "text/plain": [
              "Text(0, 0.5, 'GNP')"
            ]
          },
          "metadata": {},
          "execution_count": 111
        },
        {
          "output_type": "display_data",
          "data": {
            "text/plain": [
              "<Figure size 432x288 with 2 Axes>"
            ],
            "image/png": "[encoded data removed]"
          },
          "metadata": {}
        }
      ]
    },
    {
      "cell_type": "code",
      "source": [
        "fig,ax1=plt.subplots(2,3)"
      ],
      "metadata": {
        "colab": {
          "base_uri": "https://localhost:8080/",
          "height": 269
        },
        "id": "WWjIGjZ0Sr2g",
        "outputId": "ff7a8f47-50db-4a59-c0d3-50887669bb9c"
      },
      "execution_count": null,
      "outputs": [
        {
          "output_type": "display_data",
          "data": {
            "text/plain": [
              "<Figure size 432x288 with 6 Axes>"
            ],
            "image/png": "[encoded data removed]"
          },
          "metadata": {}
        }
      ]
    }
  ]
}